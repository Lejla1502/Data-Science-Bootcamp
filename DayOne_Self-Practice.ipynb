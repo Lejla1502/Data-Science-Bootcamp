{
  "nbformat": 4,
  "nbformat_minor": 0,
  "metadata": {
    "colab": {
      "name": "PandasTutorial.ipynb",
      "provenance": []
    },
    "kernelspec": {
      "name": "python3",
      "display_name": "Python 3"
    }
  },
  "cells": [
    {
      "cell_type": "code",
      "metadata": {
        "colab": {
          "base_uri": "https://localhost:8080/"
        },
        "id": "WhC1ky7vBu80",
        "outputId": "49339fb7-bd4a-407c-8bd8-4105e23db327"
      },
      "source": [
        "import pandas as pd\n",
        "\n",
        "data={\n",
        "    \"apples\":[3,2,7,0],\n",
        "    \"oranges\":[4,6,5,7]\n",
        "}\n",
        "\n",
        "purchases=pd.DataFrame(data)\n",
        "\n",
        "purchases\n",
        "\n",
        "purchases = pd.DataFrame(data, index=['June', 'Robert', 'Lily', 'David'])\n",
        "purchases\n",
        "\n",
        "purchases.loc['June']"
      ],
      "execution_count": 9,
      "outputs": [
        {
          "output_type": "execute_result",
          "data": {
            "text/plain": [
              "apples     3\n",
              "oranges    4\n",
              "Name: June, dtype: int64"
            ]
          },
          "metadata": {
            "tags": []
          },
          "execution_count": 9
        }
      ]
    },
    {
      "cell_type": "code",
      "metadata": {
        "colab": {
          "base_uri": "https://localhost:8080/"
        },
        "id": "LChhlAeEeTzo",
        "outputId": "f3ac29aa-5f06-4a9f-96ab-c48a9cf7257e"
      },
      "source": [
        "greenhouse_data=pd.read_csv(\"https://raw.githubusercontent.com/dphi-official/Datasets/master/UNdata_Greenhouse_Gas.csv\")\n",
        "\n",
        "greenhouse_data.describe()\n",
        "greenhouse_data.head(10)\n",
        "greenhouse_data.tail(10)\n",
        "greenhouse_data.isnull()\n",
        "greenhouse_data.isnull().sum()\n",
        "\n",
        "#greenhouse_data.to_csv( \"file2.csv\")\n"
      ],
      "execution_count": 21,
      "outputs": [
        {
          "output_type": "execute_result",
          "data": {
            "text/plain": [
              "Country or Area    0\n",
              "Year               0\n",
              "Value              0\n",
              "dtype: int64"
            ]
          },
          "metadata": {
            "tags": []
          },
          "execution_count": 21
        }
      ]
    }
  ]
}