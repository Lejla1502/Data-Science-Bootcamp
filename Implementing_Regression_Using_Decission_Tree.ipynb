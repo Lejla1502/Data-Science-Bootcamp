{
  "nbformat": 4,
  "nbformat_minor": 0,
  "metadata": {
    "colab": {
      "name": "Implementing Regression Using Decission Tree.ipynb",
      "provenance": [],
      "authorship_tag": "ABX9TyOAqS47eCx1Da/eCaqx/Qq0",
      "include_colab_link": true
    },
    "kernelspec": {
      "name": "python3",
      "display_name": "Python 3"
    }
  },
  "cells": [
    {
      "cell_type": "markdown",
      "metadata": {
        "id": "view-in-github",
        "colab_type": "text"
      },
      "source": [
        "<a href=\"https://colab.research.google.com/github/Lejla1502/Data-Science-Bootcamp/blob/master/Implementing_Regression_Using_Decission_Tree.ipynb\" target=\"_parent\"><img src=\"https://colab.research.google.com/assets/colab-badge.svg\" alt=\"Open In Colab\"/></a>"
      ]
    },
    {
      "cell_type": "code",
      "metadata": {
        "colab": {
          "base_uri": "https://localhost:8080/",
          "height": 419
        },
        "id": "bju7KviiJpPz",
        "outputId": "155e35c6-2b91-4520-f5d5-9a795fa016b1"
      },
      "source": [
        "import numpy as np\r\n",
        "import pandas as pd\r\n",
        "from sklearn.tree import DecisionTreeRegressor\r\n",
        "from sklearn.model_selection import train_test_split\r\n",
        "from sklearn.metrics import r2_score,mean_squared_error\r\n",
        "import seaborn as sns\r\n",
        "\r\n",
        "\r\n",
        "df=pd.read_csv(\"https://raw.githubusercontent.com/dhirajk100/DTR/master/DT-Regression-Data.csv\")\r\n",
        "df"
      ],
      "execution_count": 5,
      "outputs": [
        {
          "output_type": "execute_result",
          "data": {
            "text/html": [
              "<div>\n",
              "<style scoped>\n",
              "    .dataframe tbody tr th:only-of-type {\n",
              "        vertical-align: middle;\n",
              "    }\n",
              "\n",
              "    .dataframe tbody tr th {\n",
              "        vertical-align: top;\n",
              "    }\n",
              "\n",
              "    .dataframe thead th {\n",
              "        text-align: right;\n",
              "    }\n",
              "</style>\n",
              "<table border=\"1\" class=\"dataframe\">\n",
              "  <thead>\n",
              "    <tr style=\"text-align: right;\">\n",
              "      <th></th>\n",
              "      <th>x</th>\n",
              "      <th>y</th>\n",
              "    </tr>\n",
              "  </thead>\n",
              "  <tbody>\n",
              "    <tr>\n",
              "      <th>0</th>\n",
              "      <td>56.000000</td>\n",
              "      <td>157.553428</td>\n",
              "    </tr>\n",
              "    <tr>\n",
              "      <th>1</th>\n",
              "      <td>75.636364</td>\n",
              "      <td>156.479835</td>\n",
              "    </tr>\n",
              "    <tr>\n",
              "      <th>2</th>\n",
              "      <td>95.272727</td>\n",
              "      <td>158.248104</td>\n",
              "    </tr>\n",
              "    <tr>\n",
              "      <th>3</th>\n",
              "      <td>114.909091</td>\n",
              "      <td>160.195151</td>\n",
              "    </tr>\n",
              "    <tr>\n",
              "      <th>4</th>\n",
              "      <td>134.545455</td>\n",
              "      <td>156.877148</td>\n",
              "    </tr>\n",
              "    <tr>\n",
              "      <th>...</th>\n",
              "      <td>...</td>\n",
              "      <td>...</td>\n",
              "    </tr>\n",
              "    <tr>\n",
              "      <th>95</th>\n",
              "      <td>1921.454545</td>\n",
              "      <td>172.287516</td>\n",
              "    </tr>\n",
              "    <tr>\n",
              "      <th>96</th>\n",
              "      <td>1941.090909</td>\n",
              "      <td>176.003150</td>\n",
              "    </tr>\n",
              "    <tr>\n",
              "      <th>97</th>\n",
              "      <td>1960.727273</td>\n",
              "      <td>176.129383</td>\n",
              "    </tr>\n",
              "    <tr>\n",
              "      <th>98</th>\n",
              "      <td>1980.363636</td>\n",
              "      <td>175.813863</td>\n",
              "    </tr>\n",
              "    <tr>\n",
              "      <th>99</th>\n",
              "      <td>2000.000000</td>\n",
              "      <td>175.530826</td>\n",
              "    </tr>\n",
              "  </tbody>\n",
              "</table>\n",
              "<p>100 rows × 2 columns</p>\n",
              "</div>"
            ],
            "text/plain": [
              "              x           y\n",
              "0     56.000000  157.553428\n",
              "1     75.636364  156.479835\n",
              "2     95.272727  158.248104\n",
              "3    114.909091  160.195151\n",
              "4    134.545455  156.877148\n",
              "..          ...         ...\n",
              "95  1921.454545  172.287516\n",
              "96  1941.090909  176.003150\n",
              "97  1960.727273  176.129383\n",
              "98  1980.363636  175.813863\n",
              "99  2000.000000  175.530826\n",
              "\n",
              "[100 rows x 2 columns]"
            ]
          },
          "metadata": {
            "tags": []
          },
          "execution_count": 5
        }
      ]
    },
    {
      "cell_type": "code",
      "metadata": {
        "id": "WdqzkgQNLLJm"
      },
      "source": [
        "X=df.x\r\n",
        "y=df.y\r\n",
        "\r\n",
        "X=X.values.reshape(-1,1)\r\n",
        "y=y.values.reshape(-1,1)\r\n",
        "\r\n",
        "x_train, x_test, y_train, y_test=train_test_split(X,y,test_size=0.50, random_state=42)"
      ],
      "execution_count": 7,
      "outputs": []
    },
    {
      "cell_type": "code",
      "metadata": {
        "colab": {
          "base_uri": "https://localhost:8080/"
        },
        "id": "CVTIYL3lMDd3",
        "outputId": "1d087553-965b-4905-8146-29bb598ee9db"
      },
      "source": [
        "#Fit the model\r\n",
        "\r\n",
        "DecisionTreeRegModel=DecisionTreeRegressor()\r\n",
        "DecisionTreeRegModel.fit(x_train,y_train)"
      ],
      "execution_count": 10,
      "outputs": [
        {
          "output_type": "execute_result",
          "data": {
            "text/plain": [
              "DecisionTreeRegressor(ccp_alpha=0.0, criterion='mse', max_depth=None,\n",
              "                      max_features=None, max_leaf_nodes=None,\n",
              "                      min_impurity_decrease=0.0, min_impurity_split=None,\n",
              "                      min_samples_leaf=1, min_samples_split=2,\n",
              "                      min_weight_fraction_leaf=0.0, presort='deprecated',\n",
              "                      random_state=None, splitter='best')"
            ]
          },
          "metadata": {
            "tags": []
          },
          "execution_count": 10
        }
      ]
    },
    {
      "cell_type": "code",
      "metadata": {
        "colab": {
          "base_uri": "https://localhost:8080/"
        },
        "id": "-uoFq6NXMbsD",
        "outputId": "7148583a-80a0-42b0-a87b-f5a358106366"
      },
      "source": [
        "#Predict\r\n",
        "\r\n",
        "y_pred=DecisionTreeRegModel.predict(x_test)\r\n",
        "y_pred"
      ],
      "execution_count": 11,
      "outputs": [
        {
          "output_type": "execute_result",
          "data": {
            "text/plain": [
              "array([171.43755825, 165.41706509, 173.57789131, 164.67144973,\n",
              "       164.40142897, 161.36544608, 160.23208376, 168.09758944,\n",
              "       157.19196032, 156.47983503, 160.52667648, 161.67115795,\n",
              "       165.85141888, 162.81664191, 175.0628985 , 160.19515062,\n",
              "       172.93107774, 172.05988519, 155.85925524, 162.81664191,\n",
              "       169.22563541, 174.30113858, 160.18396182, 164.40142897,\n",
              "       170.63599932, 155.85925524, 164.95364565, 176.12938327,\n",
              "       157.19196032, 173.57789131, 157.19196032, 166.67269112,\n",
              "       171.43755825, 161.67115795, 173.22134836, 160.89660745,\n",
              "       171.72342943, 170.75232437, 164.0468181 , 160.52667648,\n",
              "       166.67269112, 162.81664191, 160.89660745, 174.23396551,\n",
              "       161.67115795, 163.41857027, 175.61760627, 160.18396182,\n",
              "       168.16686386, 155.85925524])"
            ]
          },
          "metadata": {
            "tags": []
          },
          "execution_count": 11
        }
      ]
    },
    {
      "cell_type": "code",
      "metadata": {
        "colab": {
          "base_uri": "https://localhost:8080/"
        },
        "id": "PjuGrX9SMlZi",
        "outputId": "2ea678dd-fb6c-41a6-aa76-30bdfa430fd2"
      },
      "source": [
        "#model evaluation\r\n",
        "\r\n",
        "mse=mean_squared_error(y_test,y_pred)\r\n",
        "rmse=np.sqrt(mse)\r\n",
        "rmse"
      ],
      "execution_count": 12,
      "outputs": [
        {
          "output_type": "execute_result",
          "data": {
            "text/plain": [
              "2.469261785422102"
            ]
          },
          "metadata": {
            "tags": []
          },
          "execution_count": 12
        }
      ]
    }
  ]
}