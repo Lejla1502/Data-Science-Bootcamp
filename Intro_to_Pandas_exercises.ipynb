{
  "nbformat": 4,
  "nbformat_minor": 0,
  "metadata": {
    "colab": {
      "name": "Intro to Pandas-exercises.ipynb",
      "provenance": [],
      "authorship_tag": "ABX9TyP91fNr2Ohd+mKldlB+GfQi",
      "include_colab_link": true
    },
    "kernelspec": {
      "name": "python3",
      "display_name": "Python 3"
    }
  },
  "cells": [
    {
      "cell_type": "markdown",
      "metadata": {
        "id": "view-in-github",
        "colab_type": "text"
      },
      "source": [
        "<a href=\"https://colab.research.google.com/github/Lejla1502/Data-Science-Bootcamp/blob/master/Intro_to_Pandas_exercises.ipynb\" target=\"_parent\"><img src=\"https://colab.research.google.com/assets/colab-badge.svg\" alt=\"Open In Colab\"/></a>"
      ]
    },
    {
      "cell_type": "code",
      "metadata": {
        "id": "KDZ1NAac7Nh0",
        "colab": {
          "base_uri": "https://localhost:8080/"
        },
        "outputId": "ab112fa4-9282-41fa-9e8c-04c71f1441d1"
      },
      "source": [
        "import pandas as pd\n",
        "\n",
        "ind=pd.Index([2,3,5,7,11])\n",
        "\n",
        "ind[::2]\n",
        "\n",
        "print(ind.size, ind.shape, ind.ndim, ind.dtype)\n",
        "\n",
        "data = pd.Series(['Hello', 'DPhi', 'world'], index=['a', 'b', 'c'])\n",
        "\n",
        "data.loc['a']\n",
        "data.loc['a':'c']\n",
        "data.iloc[1:3]\n"
      ],
      "execution_count": 6,
      "outputs": [
        {
          "output_type": "stream",
          "text": [
            "5 (5,) 1 int64\n"
          ],
          "name": "stdout"
        },
        {
          "output_type": "execute_result",
          "data": {
            "text/plain": [
              "b     DPhi\n",
              "c    world\n",
              "dtype: object"
            ]
          },
          "metadata": {
            "tags": []
          },
          "execution_count": 6
        }
      ]
    },
    {
      "cell_type": "markdown",
      "metadata": {
        "id": "2XAsEEx7CTYz"
      },
      "source": [
        "#Exercise 1\n",
        "\n",
        "Consider the following lists:\n",
        "\n",
        "> lst1 = [1, 2, 3, 5, 8] <br/>\n",
        "> lst2 = [8, 5, 3, 2, 1]\n",
        "\n",
        "\n",
        "\n",
        "1.   Create and display two individual Series objects s1 and s2 from the data available on each list.\n",
        "2.   Perform the following operations with the two series (element-wise):\n",
        "\n",
        "\n",
        "> A. Add s1 and s2 and store the result in a new variable s3_add <br/>\n",
        "> B. Subtract s2 from s1 and store the result in a new variable s3_sub<br/>\n",
        "> C. Multiply s1 and s2 and store the result in a new variable s3_mul<br/>\n",
        "> D. Divide s1 by s2 and store the result in a new variable s3_div\n",
        "\n",
        "\n",
        "\n",
        "\n",
        "\n",
        "\n"
      ]
    },
    {
      "cell_type": "code",
      "metadata": {
        "colab": {
          "base_uri": "https://localhost:8080/"
        },
        "id": "_EuGrOhG_Ouz",
        "outputId": "983e8afe-f20b-4b16-d986-0266791b5c05"
      },
      "source": [
        "import pandas as pd\n",
        "\n",
        "lst1 = [1, 2, 3, 5, 8]\n",
        "lst2 = [8, 5, 3, 2, 1]\n",
        "\n",
        "s1=pd.Series(lst1)\n",
        "s2=pd.Series(lst2)\n",
        "s1\n",
        "s2\n",
        "s3_add=pd.Series(s1.add(s2))\n",
        "s3_add\n",
        "\n",
        "s3_sub=pd.Series(s2.subtract(s1))\n",
        "s3_sub\n",
        "\n",
        "s3_mul=pd.Series(s1.multiply(s2))\n",
        "s3_mul\n",
        "\n",
        "s3_div=pd.Series(s2.divide(s1))\n",
        "s3_div\n",
        "\n"
      ],
      "execution_count": 22,
      "outputs": [
        {
          "output_type": "execute_result",
          "data": {
            "text/plain": [
              "0    8.000\n",
              "1    2.500\n",
              "2    1.000\n",
              "3    0.400\n",
              "4    0.125\n",
              "dtype: float64"
            ]
          },
          "metadata": {
            "tags": []
          },
          "execution_count": 22
        }
      ]
    },
    {
      "cell_type": "markdown",
      "metadata": {
        "id": "h9BG8qy8KC5F"
      },
      "source": [
        ""
      ]
    },
    {
      "cell_type": "markdown",
      "metadata": {
        "id": "q2k--y9l4YiK"
      },
      "source": [
        "## Exercise 2\n",
        "\n",
        "Consider the following `Series` object:\n",
        "```\n",
        "0    45000\n",
        "1    37872\n",
        "2    57923\n",
        "3    68979\n",
        "4    78934\n",
        "5    69897\n",
        "6    56701\n",
        "Name: Amazon_Reviews, dtype: int64\n",
        "```\n",
        "\n",
        "1. Create and display the `Amazon_Reviews` Series.\n",
        "\n",
        "2. Get the last three values from `Amazon_Reviews` using negative indexing."
      ]
    },
    {
      "cell_type": "code",
      "metadata": {
        "colab": {
          "base_uri": "https://localhost:8080/"
        },
        "id": "an2RHFnbKFVx",
        "outputId": "e057c7b5-18d5-46d0-83aa-fd08d0323931"
      },
      "source": [
        "Amazon_Reviews=pd.Series([45000,37872,57923,68979,78934,69897,56701])\n",
        "Amazon_Reviews.tail(-4)"
      ],
      "execution_count": 31,
      "outputs": [
        {
          "output_type": "execute_result",
          "data": {
            "text/plain": [
              "0    45000\n",
              "1    37872\n",
              "2    57923\n",
              "3    68979\n",
              "4    78934\n",
              "5    69897\n",
              "dtype: int64"
            ]
          },
          "metadata": {
            "tags": []
          },
          "execution_count": 31
        }
      ]
    },
    {
      "cell_type": "markdown",
      "metadata": {
        "id": "_g6qRNSBLjRq"
      },
      "source": [
        ""
      ]
    },
    {
      "cell_type": "markdown",
      "metadata": {
        "id": "UUJmepUT4YiV"
      },
      "source": [
        "## Exercise 3\n",
        "\n",
        "Consider the following dictionary which is relating the area in sq units of some USA states: \n",
        "```\n",
        "    area_dict = {'California': 423967, 'Texas': 695662, 'New York': 141297,\n",
        "             'Florida': 170312, 'Illinois': 149995}\n",
        "```\n",
        "\n",
        "1. Create a `Series` using the given dictionary\n",
        "2. Extract areas for 'Texas', 'New York',  and 'Florida' from the created series"
      ]
    },
    {
      "cell_type": "code",
      "metadata": {
        "colab": {
          "base_uri": "https://localhost:8080/"
        },
        "id": "26CtJjARLlCz",
        "outputId": "ba404bfb-8c0a-40b3-9f57-b2df97aed39b"
      },
      "source": [
        "area_dict = {'California': 423967, 'Texas': 695662, 'New York': 141297,\n",
        "             'Florida': 170312, 'Illinois': 149995}\n",
        "\n",
        "#Answer1\n",
        "\n",
        "area_s=pd.Series(area_dict)\n",
        "area_s\n",
        "\n",
        "#Anser2 \n",
        "area_s.iloc[1:4]\n"
      ],
      "execution_count": 36,
      "outputs": [
        {
          "output_type": "execute_result",
          "data": {
            "text/plain": [
              "Texas       695662\n",
              "New York    141297\n",
              "Florida     170312\n",
              "dtype: int64"
            ]
          },
          "metadata": {
            "tags": []
          },
          "execution_count": 36
        }
      ]
    },
    {
      "cell_type": "markdown",
      "metadata": {
        "id": "xhiA48bSU-8N"
      },
      "source": [
        ""
      ]
    },
    {
      "cell_type": "markdown",
      "metadata": {
        "id": "bW8WtyPf4Yjc"
      },
      "source": [
        "## Exercise 4\n",
        "\n",
        "Consider below DPhi Bootcamp's information about different batches:\n",
        "\n",
        "```\n",
        "Total_Candidates = {'absolute_beginners': 785, 'beginners': 825, 'intermediat_advanced': 602} # this is true data\n",
        "Active_Candidates = {'absolute_beginners': 500, 'beginners': 425, 'intermediat_advanced': 300}  # this is hypothetical data\n",
        "```\n",
        "    \n",
        "1. Create a Pandas `DataFrame` using above information (name your Dataframe as `DPhi`)\n",
        "2. Get all the columns in DPhi.\n",
        "3. Get the information of total candidates present in each batches using dictionary-style indexing.\n",
        "4. Find the number of candidates for each batches who are not active and add this information to the dataframe DPhi.\n",
        "5. Also, find the percent of candidates that are active in each batches and add this information to the `DPhi` dataframe (hint: $percent = (active / total)* 100$)\n",
        "6. Get all the batches where percentage of active candidates are greater than 60%"
      ]
    },
    {
      "cell_type": "code",
      "metadata": {
        "colab": {
          "base_uri": "https://localhost:8080/",
          "height": 80
        },
        "id": "tTijs2LWVBU0",
        "outputId": "3d80b9cd-38f0-4f47-8506-ea34d1d0fe7a"
      },
      "source": [
        "Total_Candidates = {'absolute_beginners': 785, 'beginners': 825, 'intermediat_advanced': 602} # this is true data\n",
        "Active_Candidates = {'absolute_beginners': 500, 'beginners': 425, 'intermediat_advanced': 300}  # this is hypothetical data\n",
        "\n",
        "#A1\n",
        "DPhi=pd.DataFrame({'total_candidates':Total_Candidates,'active_candidates':Active_Candidates})\n",
        "\n",
        "DPhi\n",
        "\n",
        "#A2\n",
        "\n",
        "DPhi.columns\n",
        "\n",
        "#A3\n",
        "DPhi.total_candidates\n",
        "DPhi['total_candidates']\n",
        "\n",
        "#A4\n",
        "\n",
        "DPhi['nonactive_candidates']=DPhi['total_candidates']-DPhi['active_candidates']\n",
        "DPhi['nonactive_candidates']=DPhi.total_candidates-DPhi.active_candidates\n",
        "\n",
        "DPhi\n",
        "\n",
        "#A5\n",
        "\n",
        "DPhi['activec_percentage']=(DPhi.active_candidates/DPhi.total_candidates)*100\n",
        "DPhi\n",
        "\n",
        "#A6\n",
        "\n",
        "DPhi[DPhi['activec_percentage']>60]\n"
      ],
      "execution_count": 48,
      "outputs": [
        {
          "output_type": "execute_result",
          "data": {
            "text/html": [
              "<div>\n",
              "<style scoped>\n",
              "    .dataframe tbody tr th:only-of-type {\n",
              "        vertical-align: middle;\n",
              "    }\n",
              "\n",
              "    .dataframe tbody tr th {\n",
              "        vertical-align: top;\n",
              "    }\n",
              "\n",
              "    .dataframe thead th {\n",
              "        text-align: right;\n",
              "    }\n",
              "</style>\n",
              "<table border=\"1\" class=\"dataframe\">\n",
              "  <thead>\n",
              "    <tr style=\"text-align: right;\">\n",
              "      <th></th>\n",
              "      <th>total_candidates</th>\n",
              "      <th>active_candidates</th>\n",
              "      <th>nonactive_candidates</th>\n",
              "      <th>activec_percentage</th>\n",
              "    </tr>\n",
              "  </thead>\n",
              "  <tbody>\n",
              "    <tr>\n",
              "      <th>absolute_beginners</th>\n",
              "      <td>785</td>\n",
              "      <td>500</td>\n",
              "      <td>285</td>\n",
              "      <td>63.694268</td>\n",
              "    </tr>\n",
              "  </tbody>\n",
              "</table>\n",
              "</div>"
            ],
            "text/plain": [
              "                    total_candidates  ...  activec_percentage\n",
              "absolute_beginners               785  ...           63.694268\n",
              "\n",
              "[1 rows x 4 columns]"
            ]
          },
          "metadata": {
            "tags": []
          },
          "execution_count": 48
        }
      ]
    },
    {
      "cell_type": "markdown",
      "metadata": {
        "id": "Zi4tjuAbZDHQ"
      },
      "source": [
        ""
      ]
    },
    {
      "cell_type": "markdown",
      "metadata": {
        "id": "bYuKRLP04Ynn"
      },
      "source": [
        "## Exercise 5\n",
        "\n",
        "Consider the following lists:\n",
        "\n",
        "```\n",
        "country = ['Netherland', 'Germany', 'Peru', 'Israel', 'Madagascar']\n",
        "year = [2002, 2002, 1957, 2007, 1967]\n",
        "population = [16122830.0, np.nan, 9146100.0, 6426679.0, 6334556.0]\n",
        "continent = ['Europe', 'europe', 'Americas', 'asia', 'Africa']\n",
        "```\n",
        "\n",
        "1. Create a Dataframe object which contains all the lists values as Series. The final DataFrame should be named as `country_info`, containing 4 columns and 5 rows.\n",
        "2. Delete the rows which contains missing values\n",
        "3. Capitalize all the continents in continent column.\n",
        "4. Get the length of each country's names."
      ]
    },
    {
      "cell_type": "code",
      "metadata": {
        "colab": {
          "base_uri": "https://localhost:8080/"
        },
        "id": "kU0bRixihl2m",
        "outputId": "f69bcc2e-15e9-4063-c461-8097517ee22e"
      },
      "source": [
        "import numpy as np\n",
        "\n",
        "country = ['Netherland', 'Germany', 'Peru', 'Israel', 'Madagascar']\n",
        "year = [2002, 2002, 1957, 2007, 1967]\n",
        "population = [16122830.0, np.nan, 9146100.0, 6426679.0, 6334556.0]\n",
        "continent = ['Europe', 'europe', 'Americas', 'asia', 'Africa']\n",
        "\n",
        "#A1\n",
        "country_info=pd.DataFrame({'country':country,'year':year,'population':population,'continent':continent})\n",
        "\n",
        "country_info\n",
        "\n",
        "#A2\n",
        "country_info.dropna()\n",
        "\n",
        "#A3\n",
        "#[s.capitalize() for s in country_info.continent]\n",
        "\n",
        "country_info.continent.str.capitalize()\n",
        "\n",
        "#A4\n",
        "country_info.country.str.len()\n",
        "\n"
      ],
      "execution_count": 59,
      "outputs": [
        {
          "output_type": "execute_result",
          "data": {
            "text/plain": [
              "['Europe', 'Europe', 'Americas', 'Asia', 'Africa']"
            ]
          },
          "metadata": {
            "tags": []
          },
          "execution_count": 59
        }
      ]
    },
    {
      "cell_type": "markdown",
      "metadata": {
        "id": "NBtLH0_fkU-y"
      },
      "source": [
        ""
      ]
    },
    {
      "cell_type": "markdown",
      "metadata": {
        "id": "07hetTOW4YoB"
      },
      "source": [
        "## Exercise 6\n",
        "\n",
        "Consider the following lists:\n",
        "\n",
        "```\n",
        "country = ['Netherland', 'Germany', 'Peru', 'Israel', 'Madagascar']\n",
        "gdp_per_cap = [33724.757780, 30035.801980, 4245.256698, 25523.277100, 1634.047282]\n",
        "```\n",
        "\n",
        "1. Create a Dataframe object which contains all the lists values as Series. The final DataFrame should be named as `country_gdp`, containing 2 columns and 5 rows.\n",
        "2. Concatenate the two dataframes: `country_info` and `country_gdp` with `axis=0` and name it `concat_data`\n",
        "3. Check if there are any null values in `concat_data`\n",
        "4. Find total numer of missing values in each column. *hint: Use `.isnull()` and `.sum()` functions*"
      ]
    },
    {
      "cell_type": "code",
      "metadata": {
        "colab": {
          "base_uri": "https://localhost:8080/"
        },
        "id": "YdK-O6lykWbY",
        "outputId": "3394342a-6326-49c2-b073-742fc89dd7ce"
      },
      "source": [
        "country = ['Netherland', 'Germany', 'Peru', 'Israel', 'Madagascar']\n",
        "gdp_per_cap = [33724.757780, 30035.801980, 4245.256698, 25523.277100, 1634.047282]\n",
        "\n",
        "#A1\n",
        "country_gdp=pd.DataFrame({'country':country,'gdp_per_cap':gdp_per_cap})\n",
        "country_gdp\n",
        "\n",
        "#A2\n",
        "\n",
        "concat_data=pd.concat([country_info,country_gdp],axis=0)\n",
        "concat_data\n",
        "\n",
        "#A3\n",
        "concat_data.isnull()\n",
        "\n",
        "#A4\n",
        "concat_data.isnull().sum()\n"
      ],
      "execution_count": 66,
      "outputs": [
        {
          "output_type": "execute_result",
          "data": {
            "text/plain": [
              "country        0\n",
              "year           5\n",
              "population     6\n",
              "continent      5\n",
              "gdp_per_cap    5\n",
              "dtype: int64"
            ]
          },
          "metadata": {
            "tags": []
          },
          "execution_count": 66
        }
      ]
    }
  ]
}