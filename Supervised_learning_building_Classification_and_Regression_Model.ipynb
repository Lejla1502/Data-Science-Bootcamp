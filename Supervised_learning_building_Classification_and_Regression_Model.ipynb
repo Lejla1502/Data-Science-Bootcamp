{
  "nbformat": 4,
  "nbformat_minor": 0,
  "metadata": {
    "colab": {
      "name": "Supervised learning-building Classification and Regression Model.ipynb",
      "provenance": [],
      "collapsed_sections": [],
      "authorship_tag": "ABX9TyMSVDlptswWmzjwXFSQdwuL",
      "include_colab_link": true
    },
    "kernelspec": {
      "name": "python3",
      "display_name": "Python 3"
    }
  },
  "cells": [
    {
      "cell_type": "markdown",
      "metadata": {
        "id": "view-in-github",
        "colab_type": "text"
      },
      "source": [
        "<a href=\"https://colab.research.google.com/github/Lejla1502/Data-Science-Bootcamp/blob/master/Supervised_learning_building_Classification_and_Regression_Model.ipynb\" target=\"_parent\"><img src=\"https://colab.research.google.com/assets/colab-badge.svg\" alt=\"Open In Colab\"/></a>"
      ]
    },
    {
      "cell_type": "markdown",
      "metadata": {
        "id": "NGrqQMJkToeI"
      },
      "source": [
        "#BUILDING CLASSIFICATION MODEL"
      ]
    },
    {
      "cell_type": "code",
      "metadata": {
        "colab": {
          "base_uri": "https://localhost:8080/",
          "height": 221
        },
        "id": "0VXtUn2bzr7F",
        "outputId": "15864a87-ec17-43c6-f420-e58e7908dceb"
      },
      "source": [
        "import pandas as pd\r\n",
        "import numpy as np\r\n",
        "\r\n",
        "# import iris data using pandas\r\n",
        "iris = pd.read_csv('https://raw.githubusercontent.com/dphi-official/Datasets/master/iris.csv')\r\n",
        "\r\n",
        "print(iris.shape)\r\n",
        "iris.head(5)"
      ],
      "execution_count": 2,
      "outputs": [
        {
          "output_type": "stream",
          "text": [
            "(150, 5)\n"
          ],
          "name": "stdout"
        },
        {
          "output_type": "execute_result",
          "data": {
            "text/html": [
              "<div>\n",
              "<style scoped>\n",
              "    .dataframe tbody tr th:only-of-type {\n",
              "        vertical-align: middle;\n",
              "    }\n",
              "\n",
              "    .dataframe tbody tr th {\n",
              "        vertical-align: top;\n",
              "    }\n",
              "\n",
              "    .dataframe thead th {\n",
              "        text-align: right;\n",
              "    }\n",
              "</style>\n",
              "<table border=\"1\" class=\"dataframe\">\n",
              "  <thead>\n",
              "    <tr style=\"text-align: right;\">\n",
              "      <th></th>\n",
              "      <th>sepal.length</th>\n",
              "      <th>sepal.width</th>\n",
              "      <th>petal.length</th>\n",
              "      <th>petal.width</th>\n",
              "      <th>variety</th>\n",
              "    </tr>\n",
              "  </thead>\n",
              "  <tbody>\n",
              "    <tr>\n",
              "      <th>0</th>\n",
              "      <td>5.1</td>\n",
              "      <td>3.5</td>\n",
              "      <td>1.4</td>\n",
              "      <td>0.2</td>\n",
              "      <td>Setosa</td>\n",
              "    </tr>\n",
              "    <tr>\n",
              "      <th>1</th>\n",
              "      <td>4.9</td>\n",
              "      <td>3.0</td>\n",
              "      <td>1.4</td>\n",
              "      <td>0.2</td>\n",
              "      <td>Setosa</td>\n",
              "    </tr>\n",
              "    <tr>\n",
              "      <th>2</th>\n",
              "      <td>4.7</td>\n",
              "      <td>3.2</td>\n",
              "      <td>1.3</td>\n",
              "      <td>0.2</td>\n",
              "      <td>Setosa</td>\n",
              "    </tr>\n",
              "    <tr>\n",
              "      <th>3</th>\n",
              "      <td>4.6</td>\n",
              "      <td>3.1</td>\n",
              "      <td>1.5</td>\n",
              "      <td>0.2</td>\n",
              "      <td>Setosa</td>\n",
              "    </tr>\n",
              "    <tr>\n",
              "      <th>4</th>\n",
              "      <td>5.0</td>\n",
              "      <td>3.6</td>\n",
              "      <td>1.4</td>\n",
              "      <td>0.2</td>\n",
              "      <td>Setosa</td>\n",
              "    </tr>\n",
              "  </tbody>\n",
              "</table>\n",
              "</div>"
            ],
            "text/plain": [
              "   sepal.length  sepal.width  petal.length  petal.width variety\n",
              "0           5.1          3.5           1.4          0.2  Setosa\n",
              "1           4.9          3.0           1.4          0.2  Setosa\n",
              "2           4.7          3.2           1.3          0.2  Setosa\n",
              "3           4.6          3.1           1.5          0.2  Setosa\n",
              "4           5.0          3.6           1.4          0.2  Setosa"
            ]
          },
          "metadata": {
            "tags": []
          },
          "execution_count": 2
        }
      ]
    },
    {
      "cell_type": "code",
      "metadata": {
        "colab": {
          "base_uri": "https://localhost:8080/"
        },
        "id": "mGoROxohH2P_",
        "outputId": "2d917bbe-de30-4a2b-b067-d8dcfd75870c"
      },
      "source": [
        "iris.info()"
      ],
      "execution_count": 3,
      "outputs": [
        {
          "output_type": "stream",
          "text": [
            "<class 'pandas.core.frame.DataFrame'>\n",
            "RangeIndex: 150 entries, 0 to 149\n",
            "Data columns (total 5 columns):\n",
            " #   Column        Non-Null Count  Dtype  \n",
            "---  ------        --------------  -----  \n",
            " 0   sepal.length  150 non-null    float64\n",
            " 1   sepal.width   150 non-null    float64\n",
            " 2   petal.length  150 non-null    float64\n",
            " 3   petal.width   150 non-null    float64\n",
            " 4   variety       150 non-null    object \n",
            "dtypes: float64(4), object(1)\n",
            "memory usage: 6.0+ KB\n"
          ],
          "name": "stdout"
        }
      ]
    },
    {
      "cell_type": "code",
      "metadata": {
        "colab": {
          "base_uri": "https://localhost:8080/"
        },
        "id": "qQxBLsumIF_J",
        "outputId": "b48c8f60-1db5-4dcc-ae36-622b2bcee60d"
      },
      "source": [
        "# check null value counts in iris data\r\n",
        "iris.isnull().sum()"
      ],
      "execution_count": 4,
      "outputs": [
        {
          "output_type": "execute_result",
          "data": {
            "text/plain": [
              "sepal.length    0\n",
              "sepal.width     0\n",
              "petal.length    0\n",
              "petal.width     0\n",
              "variety         0\n",
              "dtype: int64"
            ]
          },
          "metadata": {
            "tags": []
          },
          "execution_count": 4
        }
      ]
    },
    {
      "cell_type": "code",
      "metadata": {
        "colab": {
          "base_uri": "https://localhost:8080/",
          "height": 297
        },
        "id": "X85Te_f9Ij76",
        "outputId": "1f55c0fe-bae5-4920-a8bb-1dc0e2a0e377"
      },
      "source": [
        "iris.describe()"
      ],
      "execution_count": 5,
      "outputs": [
        {
          "output_type": "execute_result",
          "data": {
            "text/html": [
              "<div>\n",
              "<style scoped>\n",
              "    .dataframe tbody tr th:only-of-type {\n",
              "        vertical-align: middle;\n",
              "    }\n",
              "\n",
              "    .dataframe tbody tr th {\n",
              "        vertical-align: top;\n",
              "    }\n",
              "\n",
              "    .dataframe thead th {\n",
              "        text-align: right;\n",
              "    }\n",
              "</style>\n",
              "<table border=\"1\" class=\"dataframe\">\n",
              "  <thead>\n",
              "    <tr style=\"text-align: right;\">\n",
              "      <th></th>\n",
              "      <th>sepal.length</th>\n",
              "      <th>sepal.width</th>\n",
              "      <th>petal.length</th>\n",
              "      <th>petal.width</th>\n",
              "    </tr>\n",
              "  </thead>\n",
              "  <tbody>\n",
              "    <tr>\n",
              "      <th>count</th>\n",
              "      <td>150.000000</td>\n",
              "      <td>150.000000</td>\n",
              "      <td>150.000000</td>\n",
              "      <td>150.000000</td>\n",
              "    </tr>\n",
              "    <tr>\n",
              "      <th>mean</th>\n",
              "      <td>5.843333</td>\n",
              "      <td>3.057333</td>\n",
              "      <td>3.758000</td>\n",
              "      <td>1.199333</td>\n",
              "    </tr>\n",
              "    <tr>\n",
              "      <th>std</th>\n",
              "      <td>0.828066</td>\n",
              "      <td>0.435866</td>\n",
              "      <td>1.765298</td>\n",
              "      <td>0.762238</td>\n",
              "    </tr>\n",
              "    <tr>\n",
              "      <th>min</th>\n",
              "      <td>4.300000</td>\n",
              "      <td>2.000000</td>\n",
              "      <td>1.000000</td>\n",
              "      <td>0.100000</td>\n",
              "    </tr>\n",
              "    <tr>\n",
              "      <th>25%</th>\n",
              "      <td>5.100000</td>\n",
              "      <td>2.800000</td>\n",
              "      <td>1.600000</td>\n",
              "      <td>0.300000</td>\n",
              "    </tr>\n",
              "    <tr>\n",
              "      <th>50%</th>\n",
              "      <td>5.800000</td>\n",
              "      <td>3.000000</td>\n",
              "      <td>4.350000</td>\n",
              "      <td>1.300000</td>\n",
              "    </tr>\n",
              "    <tr>\n",
              "      <th>75%</th>\n",
              "      <td>6.400000</td>\n",
              "      <td>3.300000</td>\n",
              "      <td>5.100000</td>\n",
              "      <td>1.800000</td>\n",
              "    </tr>\n",
              "    <tr>\n",
              "      <th>max</th>\n",
              "      <td>7.900000</td>\n",
              "      <td>4.400000</td>\n",
              "      <td>6.900000</td>\n",
              "      <td>2.500000</td>\n",
              "    </tr>\n",
              "  </tbody>\n",
              "</table>\n",
              "</div>"
            ],
            "text/plain": [
              "       sepal.length  sepal.width  petal.length  petal.width\n",
              "count    150.000000   150.000000    150.000000   150.000000\n",
              "mean       5.843333     3.057333      3.758000     1.199333\n",
              "std        0.828066     0.435866      1.765298     0.762238\n",
              "min        4.300000     2.000000      1.000000     0.100000\n",
              "25%        5.100000     2.800000      1.600000     0.300000\n",
              "50%        5.800000     3.000000      4.350000     1.300000\n",
              "75%        6.400000     3.300000      5.100000     1.800000\n",
              "max        7.900000     4.400000      6.900000     2.500000"
            ]
          },
          "metadata": {
            "tags": []
          },
          "execution_count": 5
        }
      ]
    },
    {
      "cell_type": "code",
      "metadata": {
        "id": "rkB7m9XXJGhH",
        "colab": {
          "base_uri": "https://localhost:8080/"
        },
        "outputId": "b26b7416-4975-4225-ed71-a62fc2e12bea"
      },
      "source": [
        "iris.groupby('variety').size()\r\n"
      ],
      "execution_count": 6,
      "outputs": [
        {
          "output_type": "execute_result",
          "data": {
            "text/plain": [
              "variety\n",
              "Setosa        50\n",
              "Versicolor    50\n",
              "Virginica     50\n",
              "dtype: int64"
            ]
          },
          "metadata": {
            "tags": []
          },
          "execution_count": 6
        }
      ]
    },
    {
      "cell_type": "code",
      "metadata": {
        "colab": {
          "base_uri": "https://localhost:8080/",
          "height": 173
        },
        "id": "iHuCZ3D-bCoL",
        "outputId": "6464667e-791b-413e-e416-444935625e71"
      },
      "source": [
        "iris.groupby('variety').mean()\r\n"
      ],
      "execution_count": 7,
      "outputs": [
        {
          "output_type": "execute_result",
          "data": {
            "text/html": [
              "<div>\n",
              "<style scoped>\n",
              "    .dataframe tbody tr th:only-of-type {\n",
              "        vertical-align: middle;\n",
              "    }\n",
              "\n",
              "    .dataframe tbody tr th {\n",
              "        vertical-align: top;\n",
              "    }\n",
              "\n",
              "    .dataframe thead th {\n",
              "        text-align: right;\n",
              "    }\n",
              "</style>\n",
              "<table border=\"1\" class=\"dataframe\">\n",
              "  <thead>\n",
              "    <tr style=\"text-align: right;\">\n",
              "      <th></th>\n",
              "      <th>sepal.length</th>\n",
              "      <th>sepal.width</th>\n",
              "      <th>petal.length</th>\n",
              "      <th>petal.width</th>\n",
              "    </tr>\n",
              "    <tr>\n",
              "      <th>variety</th>\n",
              "      <th></th>\n",
              "      <th></th>\n",
              "      <th></th>\n",
              "      <th></th>\n",
              "    </tr>\n",
              "  </thead>\n",
              "  <tbody>\n",
              "    <tr>\n",
              "      <th>Setosa</th>\n",
              "      <td>5.006</td>\n",
              "      <td>3.428</td>\n",
              "      <td>1.462</td>\n",
              "      <td>0.246</td>\n",
              "    </tr>\n",
              "    <tr>\n",
              "      <th>Versicolor</th>\n",
              "      <td>5.936</td>\n",
              "      <td>2.770</td>\n",
              "      <td>4.260</td>\n",
              "      <td>1.326</td>\n",
              "    </tr>\n",
              "    <tr>\n",
              "      <th>Virginica</th>\n",
              "      <td>6.588</td>\n",
              "      <td>2.974</td>\n",
              "      <td>5.552</td>\n",
              "      <td>2.026</td>\n",
              "    </tr>\n",
              "  </tbody>\n",
              "</table>\n",
              "</div>"
            ],
            "text/plain": [
              "            sepal.length  sepal.width  petal.length  petal.width\n",
              "variety                                                         \n",
              "Setosa             5.006        3.428         1.462        0.246\n",
              "Versicolor         5.936        2.770         4.260        1.326\n",
              "Virginica          6.588        2.974         5.552        2.026"
            ]
          },
          "metadata": {
            "tags": []
          },
          "execution_count": 7
        }
      ]
    },
    {
      "cell_type": "code",
      "metadata": {
        "colab": {
          "base_uri": "https://localhost:8080/"
        },
        "id": "3dAE7XCbbHs6",
        "outputId": "c97782ae-934f-4045-ebd9-6ca67d9bd70c"
      },
      "source": [
        "#Split data into train and test\r\n",
        "\r\n",
        "#In Machine Learning problems, we always need to split the dataset into train and test sets \r\n",
        "#in order to estimate the performance of the machine learning algorithm.\r\n",
        "\r\n",
        "\r\n",
        "from sklearn import model_selection\r\n",
        "\r\n",
        "# Split data into train and test\r\n",
        "iris_train,iris_test = model_selection.train_test_split(iris,test_size=0.2)\r\n",
        "print(\"Shape of the original iris data: \", iris.shape)\r\n",
        "print(\"Shape of the iris train data = \", iris_train.shape)\r\n",
        "print(\"Shape of the iris test data = \", iris_test.shape)\r\n",
        "\r\n",
        "#once we split the data into train and test set you should reset your index\r\n",
        "#because model expects that input data is inproper index format (0,1,2...)\r\n",
        "#and when we split data it shuffles, shuffling index as well\r\n",
        "\r\n",
        "#Resetting index for prediction time\r\n",
        "iris_train = iris_train.reset_index(drop=True)\r\n",
        "iris_test = iris_test.reset_index(drop=True)"
      ],
      "execution_count": 8,
      "outputs": [
        {
          "output_type": "stream",
          "text": [
            "Shape of the original iris data:  (150, 5)\n",
            "Shape of the iris train data =  (120, 5)\n",
            "Shape of the iris test data =  (30, 5)\n"
          ],
          "name": "stdout"
        }
      ]
    },
    {
      "cell_type": "code",
      "metadata": {
        "colab": {
          "base_uri": "https://localhost:8080/"
        },
        "id": "kCWO6ySalcjo",
        "outputId": "73b2287a-5de9-4580-e2ac-1f170c6a9f69"
      },
      "source": [
        "#Feature selection\r\n",
        "\r\n",
        "#It is essential to quality control the data that is being fed to the model.\r\n",
        "#Feature Selection Methods:\r\n",
        "\r\n",
        "#    Correlation coefficient\r\n",
        "#    Variance threshold\r\n",
        "#    Recursive Feature Elimination\r\n",
        "#    LASSO regularization\r\n",
        "#    Random Forest Importance\r\n",
        "\r\n",
        "\r\n",
        "#Variance Threshold - Remove Low Var Features\r\n",
        "\r\n",
        "\r\n",
        "#Variance threshold method removes features whose variance below a pre-defined cutoff value. \r\n",
        "#It is based on the notion that features that do not vary much within themselves have low predictive power. \r\n",
        "#The main weakness of variance threshold is that it does not consider the relationship of input features with the output feature.\r\n",
        "\r\n",
        "#It should be noted that, before performing variance thresholding, all features should be standardized so they will have the same scale.\r\n",
        "#And it is only applied to input features\r\n",
        "\r\n",
        "iris_features = iris.drop('variety', axis=1)\r\n",
        "iris_features.shape\r\n",
        "\r\n"
      ],
      "execution_count": 9,
      "outputs": [
        {
          "output_type": "execute_result",
          "data": {
            "text/plain": [
              "(150, 4)"
            ]
          },
          "metadata": {
            "tags": []
          },
          "execution_count": 9
        }
      ]
    },
    {
      "cell_type": "code",
      "metadata": {
        "colab": {
          "base_uri": "https://localhost:8080/"
        },
        "id": "s1dve8xwl294",
        "outputId": "f3848acc-ff58-4d95-8cc6-bae5642562fc"
      },
      "source": [
        "from sklearn.feature_selection import VarianceThreshold\r\n",
        "\r\n",
        "iris_var = VarianceThreshold()\r\n",
        "\r\n",
        "# Perform variance thresholding\r\n",
        "iris_var.fit_transform(iris_features) #first calculates variance, then applies the treshold to variance\r\n",
        "#by default, treshold is 0, so it will not drop any records from dataset\r\n",
        "\r\n",
        "# Print the name and variance of each feature\r\n",
        "for feature in zip(iris_features.columns, iris_var.variances_):\r\n",
        "    print(feature)"
      ],
      "execution_count": 10,
      "outputs": [
        {
          "output_type": "stream",
          "text": [
            "('sepal.length', 0.6811222222222223)\n",
            "('sepal.width', 0.1887128888888889)\n",
            "('petal.length', 3.0955026666666665)\n",
            "('petal.width', 0.5771328888888888)\n"
          ],
          "name": "stdout"
        }
      ]
    },
    {
      "cell_type": "code",
      "metadata": {
        "colab": {
          "base_uri": "https://localhost:8080/",
          "height": 333
        },
        "id": "a17SbpNjoWqH",
        "outputId": "05a8a6a8-b1ba-48b8-ab3b-24c5b31f93a2"
      },
      "source": [
        "# Create a bar chart for visualizing the variances\r\n",
        "import matplotlib.pyplot as plt\r\n",
        "%matplotlib inline\r\n",
        "\r\n",
        "plt.figure(figsize=(4,4))\r\n",
        "plt.bar(x=iris_features.columns, height=iris_var.variances_, color='tomato')\r\n",
        "plt.xticks(rotation='vertical')\r\n",
        "plt.ylabel('Variance')\r\n",
        "plt.title('Variance Comparison')\r\n",
        "\r\n",
        "plt.show()"
      ],
      "execution_count": 11,
      "outputs": [
        {
          "output_type": "display_data",
          "data": {
            "image/png": "[encoded data removed]",
            "text/plain": [
              "<Figure size 288x288 with 1 Axes>"
            ]
          },
          "metadata": {
            "tags": [],
            "needs_background": "light"
          }
        }
      ]
    },
    {
      "cell_type": "code",
      "metadata": {
        "colab": {
          "base_uri": "https://localhost:8080/"
        },
        "id": "LQ9iusbpowv5",
        "outputId": "0bb531a9-d326-4170-e1d7-51d250a2b8c1"
      },
      "source": [
        "#By default, VarianceThreshold removes only zero-variance features. Zero-variance feature means that the feature has the same value in all instances. \r\n",
        "#Suppose we want to eliminate features that have variance score below 0.2, we can specify threshold parameter.\r\n",
        "\r\n",
        "\r\n",
        "# Create VarianceThreshold object to perform variance thresholding\r\n",
        "selector = VarianceThreshold(threshold=0.2)\r\n",
        "\r\n",
        "# Transform the dataset according to variance thresholding\r\n",
        "iris_features_new = selector.fit_transform(iris_features)\r\n",
        "\r\n",
        "# Print the results\r\n",
        "print('Number of features before variance thresholding: {}'.format(iris_features.shape[1]))\r\n",
        "print('Number of features after variance thresholding: {}'.format(iris_features_new.shape[1]))\r\n",
        "\r\n",
        "\r\n",
        "#VarianceThreshold automatically eliminate features that have variance below 0.2. In this case, it removes sepal width, which has 0.188 variance."
      ],
      "execution_count": 12,
      "outputs": [
        {
          "output_type": "stream",
          "text": [
            "Number of features before variance thresholding: 4\n",
            "Number of features after variance thresholding: 3\n"
          ],
          "name": "stdout"
        }
      ]
    },
    {
      "cell_type": "code",
      "metadata": {
        "colab": {
          "base_uri": "https://localhost:8080/"
        },
        "id": "K5oSFmu7pAVU",
        "outputId": "a39a4c51-87c9-40e4-acf1-9988d7830dc2"
      },
      "source": [
        "#Split data into features and label\r\n",
        "\r\n",
        "#by now, we split data horizontally, now we need to do it vertically\r\n",
        "#if you want to build the model, you have to tell explicitly the model what are our inpout features \r\n",
        "#and what is our target variable\r\n",
        "\r\n",
        "#define input and predict to columns\r\n",
        "iris_features = ['sepal.length', 'petal.length', 'petal.width']\r\n",
        "iris_labels = ['variety']\r\n",
        "\r\n",
        "print('IRIS DATASET')\r\n",
        "print(\"Features - \" + str(iris_features))\r\n",
        "print(\"Labels - \" + str(iris_labels))\r\n",
        "\r\n",
        "iris_train_features = iris_train[iris_features]\r\n",
        "iris_train_label = iris_train[iris_labels]\r\n",
        "print('✔ Train data split into features and labels')\r\n",
        "\r\n",
        "iris_test_features = iris_test[iris_features]\r\n",
        "iris_test_label = iris_test[iris_labels]\r\n",
        "print('✔ Test data split into features and labels')\r\n"
      ],
      "execution_count": 13,
      "outputs": [
        {
          "output_type": "stream",
          "text": [
            "IRIS DATASET\n",
            "Features - ['sepal.length', 'petal.length', 'petal.width']\n",
            "Labels - ['variety']\n",
            "✔ Train data split into features and labels\n",
            "✔ Test data split into features and labels\n"
          ],
          "name": "stdout"
        }
      ]
    },
    {
      "cell_type": "code",
      "metadata": {
        "colab": {
          "base_uri": "https://localhost:8080/"
        },
        "id": "2Dx9eTxQz8Ft",
        "outputId": "44021e4c-7f96-496c-a8bf-0d1191cbc14e"
      },
      "source": [
        "#Decission tree  (classification model)\r\n",
        "#it isalso used to solveregression task\r\n",
        "\r\n",
        "from sklearn.tree import DecisionTreeClassifier\r\n",
        "\r\n",
        "# create the model object\r\n",
        "#we don't want to tree to split into high depth\r\n",
        "#because it might cause overfitting\r\n",
        "dt = DecisionTreeClassifier(max_depth=3) # max-depth controls the maximum depth of the tree\r\n",
        "\r\n",
        "# fit the model on train data\r\n",
        "#fit is going to learn the mapping between inputs and outputs\r\n",
        "#that is why we specify features and label\r\n",
        "dt.fit(iris_train_features, iris_train_label)\r\n",
        "\r\n"
      ],
      "execution_count": 14,
      "outputs": [
        {
          "output_type": "execute_result",
          "data": {
            "text/plain": [
              "DecisionTreeClassifier(ccp_alpha=0.0, class_weight=None, criterion='gini',\n",
              "                       max_depth=3, max_features=None, max_leaf_nodes=None,\n",
              "                       min_impurity_decrease=0.0, min_impurity_split=None,\n",
              "                       min_samples_leaf=1, min_samples_split=2,\n",
              "                       min_weight_fraction_leaf=0.0, presort='deprecated',\n",
              "                       random_state=None, splitter='best')"
            ]
          },
          "metadata": {
            "tags": []
          },
          "execution_count": 14
        }
      ]
    },
    {
      "cell_type": "code",
      "metadata": {
        "colab": {
          "base_uri": "https://localhost:8080/",
          "height": 204
        },
        "id": "tACFJPloNFSP",
        "outputId": "47e01812-ecad-4826-8712-6bd2cbdc7850"
      },
      "source": [
        "#now that model has learned the rules from input features , we use this trainf model and predict it on our test data\r\n",
        "\r\n",
        "#Predictions on the Test data\r\n",
        "predictions_dt = dt.predict(iris_test_features)\r\n",
        "\r\n",
        "#Putting the above predictions and probabilities together to create a readable df\r\n",
        "#Creatuing the df on top of our predictions\r\n",
        "iris_pred_label = pd.DataFrame(predictions_dt.reshape(len(predictions_dt),1))\r\n",
        "iris_pred_label.rename(columns={0:'dt_prediction'}, inplace=True)\r\n",
        "iris_pred_label.head(5)"
      ],
      "execution_count": 15,
      "outputs": [
        {
          "output_type": "execute_result",
          "data": {
            "text/html": [
              "<div>\n",
              "<style scoped>\n",
              "    .dataframe tbody tr th:only-of-type {\n",
              "        vertical-align: middle;\n",
              "    }\n",
              "\n",
              "    .dataframe tbody tr th {\n",
              "        vertical-align: top;\n",
              "    }\n",
              "\n",
              "    .dataframe thead th {\n",
              "        text-align: right;\n",
              "    }\n",
              "</style>\n",
              "<table border=\"1\" class=\"dataframe\">\n",
              "  <thead>\n",
              "    <tr style=\"text-align: right;\">\n",
              "      <th></th>\n",
              "      <th>dt_prediction</th>\n",
              "    </tr>\n",
              "  </thead>\n",
              "  <tbody>\n",
              "    <tr>\n",
              "      <th>0</th>\n",
              "      <td>Setosa</td>\n",
              "    </tr>\n",
              "    <tr>\n",
              "      <th>1</th>\n",
              "      <td>Versicolor</td>\n",
              "    </tr>\n",
              "    <tr>\n",
              "      <th>2</th>\n",
              "      <td>Virginica</td>\n",
              "    </tr>\n",
              "    <tr>\n",
              "      <th>3</th>\n",
              "      <td>Versicolor</td>\n",
              "    </tr>\n",
              "    <tr>\n",
              "      <th>4</th>\n",
              "      <td>Setosa</td>\n",
              "    </tr>\n",
              "  </tbody>\n",
              "</table>\n",
              "</div>"
            ],
            "text/plain": [
              "  dt_prediction\n",
              "0        Setosa\n",
              "1    Versicolor\n",
              "2     Virginica\n",
              "3    Versicolor\n",
              "4        Setosa"
            ]
          },
          "metadata": {
            "tags": []
          },
          "execution_count": 15
        }
      ]
    },
    {
      "cell_type": "code",
      "metadata": {
        "colab": {
          "base_uri": "https://localhost:8080/",
          "height": 204
        },
        "id": "FyEL-lwrOpZ2",
        "outputId": "5dffe951-81f8-4e1b-d82a-287a8506d01d"
      },
      "source": [
        "#To see if the model has predicted correctly\r\n",
        "\r\n",
        "#Concat the predictions of linear regression to the test dataset\r\n",
        "iris_test_pred = pd.concat([iris_test_label, iris_pred_label], axis=1)\r\n",
        "iris_test_pred.head()"
      ],
      "execution_count": 16,
      "outputs": [
        {
          "output_type": "execute_result",
          "data": {
            "text/html": [
              "<div>\n",
              "<style scoped>\n",
              "    .dataframe tbody tr th:only-of-type {\n",
              "        vertical-align: middle;\n",
              "    }\n",
              "\n",
              "    .dataframe tbody tr th {\n",
              "        vertical-align: top;\n",
              "    }\n",
              "\n",
              "    .dataframe thead th {\n",
              "        text-align: right;\n",
              "    }\n",
              "</style>\n",
              "<table border=\"1\" class=\"dataframe\">\n",
              "  <thead>\n",
              "    <tr style=\"text-align: right;\">\n",
              "      <th></th>\n",
              "      <th>variety</th>\n",
              "      <th>dt_prediction</th>\n",
              "    </tr>\n",
              "  </thead>\n",
              "  <tbody>\n",
              "    <tr>\n",
              "      <th>0</th>\n",
              "      <td>Setosa</td>\n",
              "      <td>Setosa</td>\n",
              "    </tr>\n",
              "    <tr>\n",
              "      <th>1</th>\n",
              "      <td>Versicolor</td>\n",
              "      <td>Versicolor</td>\n",
              "    </tr>\n",
              "    <tr>\n",
              "      <th>2</th>\n",
              "      <td>Virginica</td>\n",
              "      <td>Virginica</td>\n",
              "    </tr>\n",
              "    <tr>\n",
              "      <th>3</th>\n",
              "      <td>Versicolor</td>\n",
              "      <td>Versicolor</td>\n",
              "    </tr>\n",
              "    <tr>\n",
              "      <th>4</th>\n",
              "      <td>Setosa</td>\n",
              "      <td>Setosa</td>\n",
              "    </tr>\n",
              "  </tbody>\n",
              "</table>\n",
              "</div>"
            ],
            "text/plain": [
              "      variety dt_prediction\n",
              "0      Setosa        Setosa\n",
              "1  Versicolor    Versicolor\n",
              "2   Virginica     Virginica\n",
              "3  Versicolor    Versicolor\n",
              "4      Setosa        Setosa"
            ]
          },
          "metadata": {
            "tags": []
          },
          "execution_count": 16
        }
      ]
    },
    {
      "cell_type": "code",
      "metadata": {
        "id": "z5hmWjsqPVnQ"
      },
      "source": [
        ""
      ],
      "execution_count": null,
      "outputs": []
    },
    {
      "cell_type": "code",
      "metadata": {
        "colab": {
          "base_uri": "https://localhost:8080/"
        },
        "id": "85lgIYR-PaMA",
        "outputId": "366fbb7c-9a4a-4f58-eddd-db72d84159ad"
      },
      "source": [
        "#Model evaluation\r\n",
        "\r\n",
        "#Accuracy of the model is the number of correct predictions a model has made\r\n",
        "\r\n",
        "# Accuracy score\r\n",
        "from sklearn.metrics import accuracy_score\r\n",
        "print('accuracy is',accuracy_score(iris_test_label, iris_pred_label)*100.0, \"%\")\r\n"
      ],
      "execution_count": 19,
      "outputs": [
        {
          "output_type": "stream",
          "text": [
            "accuracy is 96.66666666666667 %\n"
          ],
          "name": "stdout"
        }
      ]
    },
    {
      "cell_type": "code",
      "metadata": {
        "colab": {
          "base_uri": "https://localhost:8080/",
          "height": 310
        },
        "id": "ujbWH9d8Qfnz",
        "outputId": "7d855b80-5b2d-4e6f-8df2-598cc7f77b10"
      },
      "source": [
        "#Confusion Matrix: A table used to describe the performance of a classification model (or \"classifier\") on a set of test data \r\n",
        "#for which the true values are known.\r\n",
        "import sklearn.metrics as metrics\r\n",
        "import seaborn as sns\r\n",
        "\r\n",
        "\r\n",
        "# Creates a confusion matrix\r\n",
        "cm =metrics.confusion_matrix(iris_test_label, iris_pred_label) \r\n",
        "\r\n",
        "# Transform to df for easier plotting\r\n",
        "cm_df = pd.DataFrame(cm,\r\n",
        "                     index = ['setosa','versicolor','virginica'], \r\n",
        "                     columns = ['setosa','versicolor','virginica'])\r\n",
        "\r\n",
        "plt.figure(figsize=(5.5,4))\r\n",
        "sns.heatmap(cm_df, annot=True)\r\n",
        "plt.title('Decision Tree \\nAccuracy:{0:.3f}'.format(accuracy_score(iris_test_label, iris_pred_label)))\r\n",
        "plt.ylabel('True label')\r\n",
        "plt.xlabel('Predicted label')\r\n",
        "plt.show()\r\n",
        "\r\n",
        "\r\n",
        "\r\n",
        "#see how many correct and wrong predictions model has made\r\n",
        "#diagonaliscorrect prediction (1. case 9, 2. case 10, 3. case10)\r\n",
        "#in the third case there are 11 samples, out of which 10 were correctly predicted, and 1 was wrongly predicted"
      ],
      "execution_count": 24,
      "outputs": [
        {
          "output_type": "display_data",
          "data": {
            "image/png": "[encoded data removed]",
            "text/plain": [
              "<Figure size 396x288 with 2 Axes>"
            ]
          },
          "metadata": {
            "tags": [],
            "needs_background": "light"
          }
        }
      ]
    },
    {
      "cell_type": "code",
      "metadata": {
        "colab": {
          "base_uri": "https://localhost:8080/",
          "height": 598
        },
        "id": "Du-pDIrqTOtl",
        "outputId": "9322c874-0efb-4c83-feab-1717e7a97218"
      },
      "source": [
        "from sklearn import tree\r\n",
        "import graphviz\r\n",
        "# DOT data\r\n",
        "dot_data = tree.export_graphviz(dt, out_file=None, \r\n",
        "                                feature_names=iris_features,  \r\n",
        "                                class_names=['setosa', 'versicolor', 'verginica'],\r\n",
        "                                filled=True)\r\n",
        "\r\n",
        "# Draw graph\r\n",
        "graph = graphviz.Source(dot_data, format=\"png\") \r\n",
        "graph\r\n",
        "\r\n",
        "#gini means how pure is your node\r\n",
        "#if values of gini =0 it means that node is pure and all the classes in node have been properly assinged to a single category\r\n",
        "#samples is number of observation\r\n",
        "#values- values of each class in the bucket/node"
      ],
      "execution_count": 25,
      "outputs": [
        {
          "output_type": "execute_result",
          "data": {
            "text/plain": [
              "<graphviz.files.Source at 0x7f8652770860>"
            ],
            "image/svg+xml": "<?xml version=\"1.0\" encoding=\"UTF-8\" standalone=\"no\"?>\n<!DOCTYPE svg PUBLIC \"-//W3C//DTD SVG 1.1//EN\"\n \"http://www.w3.org/Graphics/SVG/1.1/DTD/svg11.dtd\">\n<!-- Generated by graphviz version 2.40.1 (20161225.0304)\n -->\n<!-- Title: Tree Pages: 1 -->\n<svg width=\"529pt\" height=\"433pt\"\n viewBox=\"0.00 0.00 529.00 433.00\" xmlns=\"http://www.w3.org/2000/svg\" xmlns:xlink=\"http://www.w3.org/1999/xlink\">\n<g id=\"graph0\" class=\"graph\" transform=\"scale(1 1) rotate(0) translate(4 429)\">\n<title>Tree</title>\n<polygon fill=\"#ffffff\" stroke=\"transparent\" points=\"-4,4 -4,-429 525,-429 525,4 -4,4\"/>\n<!-- 0 -->\n<g id=\"node1\" class=\"node\">\n<title>0</title>\n<polygon fill=\"#fffdfd\" stroke=\"#000000\" points=\"256.5,-425 122.5,-425 122.5,-342 256.5,-342 256.5,-425\"/>\n<text text-anchor=\"middle\" x=\"189.5\" y=\"-409.8\" font-family=\"Times,serif\" font-size=\"14.00\" fill=\"#000000\">petal.length &lt;= 2.45</text>\n<text text-anchor=\"middle\" x=\"189.5\" y=\"-394.8\" font-family=\"Times,serif\" font-size=\"14.00\" fill=\"#000000\">gini = 0.667</text>\n<text text-anchor=\"middle\" x=\"189.5\" y=\"-379.8\" font-family=\"Times,serif\" font-size=\"14.00\" fill=\"#000000\">samples = 120</text>\n<text text-anchor=\"middle\" x=\"189.5\" y=\"-364.8\" font-family=\"Times,serif\" font-size=\"14.00\" fill=\"#000000\">value = [41, 40, 39]</text>\n<text text-anchor=\"middle\" x=\"189.5\" y=\"-349.8\" font-family=\"Times,serif\" font-size=\"14.00\" fill=\"#000000\">class = setosa</text>\n</g>\n<!-- 1 -->\n<g id=\"node2\" class=\"node\">\n<title>1</title>\n<polygon fill=\"#e58139\" stroke=\"#000000\" points=\"177,-298.5 60,-298.5 60,-230.5 177,-230.5 177,-298.5\"/>\n<text text-anchor=\"middle\" x=\"118.5\" y=\"-283.3\" font-family=\"Times,serif\" font-size=\"14.00\" fill=\"#000000\">gini = 0.0</text>\n<text text-anchor=\"middle\" x=\"118.5\" y=\"-268.3\" font-family=\"Times,serif\" font-size=\"14.00\" fill=\"#000000\">samples = 41</text>\n<text text-anchor=\"middle\" x=\"118.5\" y=\"-253.3\" font-family=\"Times,serif\" font-size=\"14.00\" fill=\"#000000\">value = [41, 0, 0]</text>\n<text text-anchor=\"middle\" x=\"118.5\" y=\"-238.3\" font-family=\"Times,serif\" font-size=\"14.00\" fill=\"#000000\">class = setosa</text>\n</g>\n<!-- 0&#45;&gt;1 -->\n<g id=\"edge1\" class=\"edge\">\n<title>0&#45;&gt;1</title>\n<path fill=\"none\" stroke=\"#000000\" d=\"M164.6676,-341.8796C158.0413,-330.7735 150.8684,-318.7513 144.1967,-307.5691\"/>\n<polygon fill=\"#000000\" stroke=\"#000000\" points=\"147.1031,-305.6093 138.9736,-298.8149 141.0917,-309.1959 147.1031,-305.6093\"/>\n<text text-anchor=\"middle\" x=\"132.8502\" y=\"-319.3534\" font-family=\"Times,serif\" font-size=\"14.00\" fill=\"#000000\">True</text>\n</g>\n<!-- 2 -->\n<g id=\"node3\" class=\"node\">\n<title>2</title>\n<polygon fill=\"#fafefc\" stroke=\"#000000\" points=\"326,-306 195,-306 195,-223 326,-223 326,-306\"/>\n<text text-anchor=\"middle\" x=\"260.5\" y=\"-290.8\" font-family=\"Times,serif\" font-size=\"14.00\" fill=\"#000000\">petal.width &lt;= 1.75</text>\n<text text-anchor=\"middle\" x=\"260.5\" y=\"-275.8\" font-family=\"Times,serif\" font-size=\"14.00\" fill=\"#000000\">gini = 0.5</text>\n<text text-anchor=\"middle\" x=\"260.5\" y=\"-260.8\" font-family=\"Times,serif\" font-size=\"14.00\" fill=\"#000000\">samples = 79</text>\n<text text-anchor=\"middle\" x=\"260.5\" y=\"-245.8\" font-family=\"Times,serif\" font-size=\"14.00\" fill=\"#000000\">value = [0, 40, 39]</text>\n<text text-anchor=\"middle\" x=\"260.5\" y=\"-230.8\" font-family=\"Times,serif\" font-size=\"14.00\" fill=\"#000000\">class = versicolor</text>\n</g>\n<!-- 0&#45;&gt;2 -->\n<g id=\"edge2\" class=\"edge\">\n<title>0&#45;&gt;2</title>\n<path fill=\"none\" stroke=\"#000000\" d=\"M214.3324,-341.8796C219.4909,-333.2335 224.9808,-324.0322 230.3076,-315.1042\"/>\n<polygon fill=\"#000000\" stroke=\"#000000\" points=\"233.4436,-316.679 235.5617,-306.2981 227.4322,-313.0924 233.4436,-316.679\"/>\n<text text-anchor=\"middle\" x=\"241.6851\" y=\"-326.8366\" font-family=\"Times,serif\" font-size=\"14.00\" fill=\"#000000\">False</text>\n</g>\n<!-- 3 -->\n<g id=\"node4\" class=\"node\">\n<title>3</title>\n<polygon fill=\"#4de88e\" stroke=\"#000000\" points=\"251.5,-187 117.5,-187 117.5,-104 251.5,-104 251.5,-187\"/>\n<text text-anchor=\"middle\" x=\"184.5\" y=\"-171.8\" font-family=\"Times,serif\" font-size=\"14.00\" fill=\"#000000\">petal.length &lt;= 5.05</text>\n<text text-anchor=\"middle\" x=\"184.5\" y=\"-156.8\" font-family=\"Times,serif\" font-size=\"14.00\" fill=\"#000000\">gini = 0.169</text>\n<text text-anchor=\"middle\" x=\"184.5\" y=\"-141.8\" font-family=\"Times,serif\" font-size=\"14.00\" fill=\"#000000\">samples = 43</text>\n<text text-anchor=\"middle\" x=\"184.5\" y=\"-126.8\" font-family=\"Times,serif\" font-size=\"14.00\" fill=\"#000000\">value = [0, 39, 4]</text>\n<text text-anchor=\"middle\" x=\"184.5\" y=\"-111.8\" font-family=\"Times,serif\" font-size=\"14.00\" fill=\"#000000\">class = versicolor</text>\n</g>\n<!-- 2&#45;&gt;3 -->\n<g id=\"edge3\" class=\"edge\">\n<title>2&#45;&gt;3</title>\n<path fill=\"none\" stroke=\"#000000\" d=\"M233.9189,-222.8796C228.3395,-214.1434 222.3981,-204.8404 216.6405,-195.8253\"/>\n<polygon fill=\"#000000\" stroke=\"#000000\" points=\"219.5269,-193.8421 211.1946,-187.2981 213.6274,-197.6098 219.5269,-193.8421\"/>\n</g>\n<!-- 6 -->\n<g id=\"node7\" class=\"node\">\n<title>6</title>\n<polygon fill=\"#853fe6\" stroke=\"#000000\" points=\"403.5,-187 269.5,-187 269.5,-104 403.5,-104 403.5,-187\"/>\n<text text-anchor=\"middle\" x=\"336.5\" y=\"-171.8\" font-family=\"Times,serif\" font-size=\"14.00\" fill=\"#000000\">petal.length &lt;= 4.85</text>\n<text text-anchor=\"middle\" x=\"336.5\" y=\"-156.8\" font-family=\"Times,serif\" font-size=\"14.00\" fill=\"#000000\">gini = 0.054</text>\n<text text-anchor=\"middle\" x=\"336.5\" y=\"-141.8\" font-family=\"Times,serif\" font-size=\"14.00\" fill=\"#000000\">samples = 36</text>\n<text text-anchor=\"middle\" x=\"336.5\" y=\"-126.8\" font-family=\"Times,serif\" font-size=\"14.00\" fill=\"#000000\">value = [0, 1, 35]</text>\n<text text-anchor=\"middle\" x=\"336.5\" y=\"-111.8\" font-family=\"Times,serif\" font-size=\"14.00\" fill=\"#000000\">class = verginica</text>\n</g>\n<!-- 2&#45;&gt;6 -->\n<g id=\"edge6\" class=\"edge\">\n<title>2&#45;&gt;6</title>\n<path fill=\"none\" stroke=\"#000000\" d=\"M287.0811,-222.8796C292.6605,-214.1434 298.6019,-204.8404 304.3595,-195.8253\"/>\n<polygon fill=\"#000000\" stroke=\"#000000\" points=\"307.3726,-197.6098 309.8054,-187.2981 301.4731,-193.8421 307.3726,-197.6098\"/>\n</g>\n<!-- 4 -->\n<g id=\"node5\" class=\"node\">\n<title>4</title>\n<polygon fill=\"#3ee684\" stroke=\"#000000\" points=\"117,-68 0,-68 0,0 117,0 117,-68\"/>\n<text text-anchor=\"middle\" x=\"58.5\" y=\"-52.8\" font-family=\"Times,serif\" font-size=\"14.00\" fill=\"#000000\">gini = 0.05</text>\n<text text-anchor=\"middle\" x=\"58.5\" y=\"-37.8\" font-family=\"Times,serif\" font-size=\"14.00\" fill=\"#000000\">samples = 39</text>\n<text text-anchor=\"middle\" x=\"58.5\" y=\"-22.8\" font-family=\"Times,serif\" font-size=\"14.00\" fill=\"#000000\">value = [0, 38, 1]</text>\n<text text-anchor=\"middle\" x=\"58.5\" y=\"-7.8\" font-family=\"Times,serif\" font-size=\"14.00\" fill=\"#000000\">class = versicolor</text>\n</g>\n<!-- 3&#45;&gt;4 -->\n<g id=\"edge4\" class=\"edge\">\n<title>3&#45;&gt;4</title>\n<path fill=\"none\" stroke=\"#000000\" d=\"M137.5823,-103.9815C126.8848,-94.5151 115.5244,-84.462 104.8508,-75.0168\"/>\n<polygon fill=\"#000000\" stroke=\"#000000\" points=\"107.0278,-72.2696 97.2195,-68.2637 102.3889,-77.5118 107.0278,-72.2696\"/>\n</g>\n<!-- 5 -->\n<g id=\"node6\" class=\"node\">\n<title>5</title>\n<polygon fill=\"#ab7bee\" stroke=\"#000000\" points=\"246,-68 135,-68 135,0 246,0 246,-68\"/>\n<text text-anchor=\"middle\" x=\"190.5\" y=\"-52.8\" font-family=\"Times,serif\" font-size=\"14.00\" fill=\"#000000\">gini = 0.375</text>\n<text text-anchor=\"middle\" x=\"190.5\" y=\"-37.8\" font-family=\"Times,serif\" font-size=\"14.00\" fill=\"#000000\">samples = 4</text>\n<text text-anchor=\"middle\" x=\"190.5\" y=\"-22.8\" font-family=\"Times,serif\" font-size=\"14.00\" fill=\"#000000\">value = [0, 1, 3]</text>\n<text text-anchor=\"middle\" x=\"190.5\" y=\"-7.8\" font-family=\"Times,serif\" font-size=\"14.00\" fill=\"#000000\">class = verginica</text>\n</g>\n<!-- 3&#45;&gt;5 -->\n<g id=\"edge5\" class=\"edge\">\n<title>3&#45;&gt;5</title>\n<path fill=\"none\" stroke=\"#000000\" d=\"M186.7342,-103.9815C187.1842,-95.618 187.6589,-86.7965 188.1139,-78.3409\"/>\n<polygon fill=\"#000000\" stroke=\"#000000\" points=\"191.6137,-78.4373 188.6562,-68.2637 184.6238,-78.0611 191.6137,-78.4373\"/>\n</g>\n<!-- 7 -->\n<g id=\"node8\" class=\"node\">\n<title>7</title>\n<polygon fill=\"#c09cf2\" stroke=\"#000000\" points=\"386,-68 275,-68 275,0 386,0 386,-68\"/>\n<text text-anchor=\"middle\" x=\"330.5\" y=\"-52.8\" font-family=\"Times,serif\" font-size=\"14.00\" fill=\"#000000\">gini = 0.444</text>\n<text text-anchor=\"middle\" x=\"330.5\" y=\"-37.8\" font-family=\"Times,serif\" font-size=\"14.00\" fill=\"#000000\">samples = 3</text>\n<text text-anchor=\"middle\" x=\"330.5\" y=\"-22.8\" font-family=\"Times,serif\" font-size=\"14.00\" fill=\"#000000\">value = [0, 1, 2]</text>\n<text text-anchor=\"middle\" x=\"330.5\" y=\"-7.8\" font-family=\"Times,serif\" font-size=\"14.00\" fill=\"#000000\">class = verginica</text>\n</g>\n<!-- 6&#45;&gt;7 -->\n<g id=\"edge7\" class=\"edge\">\n<title>6&#45;&gt;7</title>\n<path fill=\"none\" stroke=\"#000000\" d=\"M334.2658,-103.9815C333.8158,-95.618 333.3411,-86.7965 332.8861,-78.3409\"/>\n<polygon fill=\"#000000\" stroke=\"#000000\" points=\"336.3762,-78.0611 332.3438,-68.2637 329.3863,-78.4373 336.3762,-78.0611\"/>\n</g>\n<!-- 8 -->\n<g id=\"node9\" class=\"node\">\n<title>8</title>\n<polygon fill=\"#8139e5\" stroke=\"#000000\" points=\"521,-68 404,-68 404,0 521,0 521,-68\"/>\n<text text-anchor=\"middle\" x=\"462.5\" y=\"-52.8\" font-family=\"Times,serif\" font-size=\"14.00\" fill=\"#000000\">gini = 0.0</text>\n<text text-anchor=\"middle\" x=\"462.5\" y=\"-37.8\" font-family=\"Times,serif\" font-size=\"14.00\" fill=\"#000000\">samples = 33</text>\n<text text-anchor=\"middle\" x=\"462.5\" y=\"-22.8\" font-family=\"Times,serif\" font-size=\"14.00\" fill=\"#000000\">value = [0, 0, 33]</text>\n<text text-anchor=\"middle\" x=\"462.5\" y=\"-7.8\" font-family=\"Times,serif\" font-size=\"14.00\" fill=\"#000000\">class = verginica</text>\n</g>\n<!-- 6&#45;&gt;8 -->\n<g id=\"edge8\" class=\"edge\">\n<title>6&#45;&gt;8</title>\n<path fill=\"none\" stroke=\"#000000\" d=\"M383.4177,-103.9815C394.1152,-94.5151 405.4756,-84.462 416.1492,-75.0168\"/>\n<polygon fill=\"#000000\" stroke=\"#000000\" points=\"418.6111,-77.5118 423.7805,-68.2637 413.9722,-72.2696 418.6111,-77.5118\"/>\n</g>\n</g>\n</svg>\n"
          },
          "metadata": {
            "tags": []
          },
          "execution_count": 25
        }
      ]
    },
    {
      "cell_type": "markdown",
      "metadata": {
        "id": "rF59bt0tTyl3"
      },
      "source": [
        "# BUILDING REGRESSION MODEL"
      ]
    },
    {
      "cell_type": "code",
      "metadata": {
        "colab": {
          "base_uri": "https://localhost:8080/",
          "height": 221
        },
        "id": "dcWeFXknT2aS",
        "outputId": "f699f46a-e729-491f-e80b-7e7e8e83e58c"
      },
      "source": [
        "#MEDV - Median value of owner-occupied homes in $1000's\r\n",
        "#which is the value we are predicting\r\n",
        "\r\n",
        "import pandas as pd\r\n",
        "from sklearn import datasets\r\n",
        "\r\n",
        "boston_raw = datasets.load_boston()\r\n",
        "\r\n",
        "#boston_raw is of sklearn internal datatype. Converting it to pandas dataframe so we can analyze the data easier\r\n",
        "boston = pd.DataFrame(boston_raw.data, columns=boston_raw.feature_names)\r\n",
        "#target is the predict_to column, in this case it is medv and numerical in nature.\r\n",
        "boston['MEDV'] = boston_raw.target\r\n",
        "\r\n",
        "print(boston.shape)\r\n",
        "boston.head(5)\r\n"
      ],
      "execution_count": 26,
      "outputs": [
        {
          "output_type": "stream",
          "text": [
            "(506, 14)\n"
          ],
          "name": "stdout"
        },
        {
          "output_type": "execute_result",
          "data": {
            "text/html": [
              "<div>\n",
              "<style scoped>\n",
              "    .dataframe tbody tr th:only-of-type {\n",
              "        vertical-align: middle;\n",
              "    }\n",
              "\n",
              "    .dataframe tbody tr th {\n",
              "        vertical-align: top;\n",
              "    }\n",
              "\n",
              "    .dataframe thead th {\n",
              "        text-align: right;\n",
              "    }\n",
              "</style>\n",
              "<table border=\"1\" class=\"dataframe\">\n",
              "  <thead>\n",
              "    <tr style=\"text-align: right;\">\n",
              "      <th></th>\n",
              "      <th>CRIM</th>\n",
              "      <th>ZN</th>\n",
              "      <th>INDUS</th>\n",
              "      <th>CHAS</th>\n",
              "      <th>NOX</th>\n",
              "      <th>RM</th>\n",
              "      <th>AGE</th>\n",
              "      <th>DIS</th>\n",
              "      <th>RAD</th>\n",
              "      <th>TAX</th>\n",
              "      <th>PTRATIO</th>\n",
              "      <th>B</th>\n",
              "      <th>LSTAT</th>\n",
              "      <th>MEDV</th>\n",
              "    </tr>\n",
              "  </thead>\n",
              "  <tbody>\n",
              "    <tr>\n",
              "      <th>0</th>\n",
              "      <td>0.00632</td>\n",
              "      <td>18.0</td>\n",
              "      <td>2.31</td>\n",
              "      <td>0.0</td>\n",
              "      <td>0.538</td>\n",
              "      <td>6.575</td>\n",
              "      <td>65.2</td>\n",
              "      <td>4.0900</td>\n",
              "      <td>1.0</td>\n",
              "      <td>296.0</td>\n",
              "      <td>15.3</td>\n",
              "      <td>396.90</td>\n",
              "      <td>4.98</td>\n",
              "      <td>24.0</td>\n",
              "    </tr>\n",
              "    <tr>\n",
              "      <th>1</th>\n",
              "      <td>0.02731</td>\n",
              "      <td>0.0</td>\n",
              "      <td>7.07</td>\n",
              "      <td>0.0</td>\n",
              "      <td>0.469</td>\n",
              "      <td>6.421</td>\n",
              "      <td>78.9</td>\n",
              "      <td>4.9671</td>\n",
              "      <td>2.0</td>\n",
              "      <td>242.0</td>\n",
              "      <td>17.8</td>\n",
              "      <td>396.90</td>\n",
              "      <td>9.14</td>\n",
              "      <td>21.6</td>\n",
              "    </tr>\n",
              "    <tr>\n",
              "      <th>2</th>\n",
              "      <td>0.02729</td>\n",
              "      <td>0.0</td>\n",
              "      <td>7.07</td>\n",
              "      <td>0.0</td>\n",
              "      <td>0.469</td>\n",
              "      <td>7.185</td>\n",
              "      <td>61.1</td>\n",
              "      <td>4.9671</td>\n",
              "      <td>2.0</td>\n",
              "      <td>242.0</td>\n",
              "      <td>17.8</td>\n",
              "      <td>392.83</td>\n",
              "      <td>4.03</td>\n",
              "      <td>34.7</td>\n",
              "    </tr>\n",
              "    <tr>\n",
              "      <th>3</th>\n",
              "      <td>0.03237</td>\n",
              "      <td>0.0</td>\n",
              "      <td>2.18</td>\n",
              "      <td>0.0</td>\n",
              "      <td>0.458</td>\n",
              "      <td>6.998</td>\n",
              "      <td>45.8</td>\n",
              "      <td>6.0622</td>\n",
              "      <td>3.0</td>\n",
              "      <td>222.0</td>\n",
              "      <td>18.7</td>\n",
              "      <td>394.63</td>\n",
              "      <td>2.94</td>\n",
              "      <td>33.4</td>\n",
              "    </tr>\n",
              "    <tr>\n",
              "      <th>4</th>\n",
              "      <td>0.06905</td>\n",
              "      <td>0.0</td>\n",
              "      <td>2.18</td>\n",
              "      <td>0.0</td>\n",
              "      <td>0.458</td>\n",
              "      <td>7.147</td>\n",
              "      <td>54.2</td>\n",
              "      <td>6.0622</td>\n",
              "      <td>3.0</td>\n",
              "      <td>222.0</td>\n",
              "      <td>18.7</td>\n",
              "      <td>396.90</td>\n",
              "      <td>5.33</td>\n",
              "      <td>36.2</td>\n",
              "    </tr>\n",
              "  </tbody>\n",
              "</table>\n",
              "</div>"
            ],
            "text/plain": [
              "      CRIM    ZN  INDUS  CHAS    NOX  ...    TAX  PTRATIO       B  LSTAT  MEDV\n",
              "0  0.00632  18.0   2.31   0.0  0.538  ...  296.0     15.3  396.90   4.98  24.0\n",
              "1  0.02731   0.0   7.07   0.0  0.469  ...  242.0     17.8  396.90   9.14  21.6\n",
              "2  0.02729   0.0   7.07   0.0  0.469  ...  242.0     17.8  392.83   4.03  34.7\n",
              "3  0.03237   0.0   2.18   0.0  0.458  ...  222.0     18.7  394.63   2.94  33.4\n",
              "4  0.06905   0.0   2.18   0.0  0.458  ...  222.0     18.7  396.90   5.33  36.2\n",
              "\n",
              "[5 rows x 14 columns]"
            ]
          },
          "metadata": {
            "tags": []
          },
          "execution_count": 26
        }
      ]
    },
    {
      "cell_type": "code",
      "metadata": {
        "colab": {
          "base_uri": "https://localhost:8080/"
        },
        "id": "bqXxJl0RfvKT",
        "outputId": "7c04e222-033d-40d9-a02e-64ac058316e0"
      },
      "source": [
        "# check data summary\r\n",
        "boston.info()"
      ],
      "execution_count": 27,
      "outputs": [
        {
          "output_type": "stream",
          "text": [
            "<class 'pandas.core.frame.DataFrame'>\n",
            "RangeIndex: 506 entries, 0 to 505\n",
            "Data columns (total 14 columns):\n",
            " #   Column   Non-Null Count  Dtype  \n",
            "---  ------   --------------  -----  \n",
            " 0   CRIM     506 non-null    float64\n",
            " 1   ZN       506 non-null    float64\n",
            " 2   INDUS    506 non-null    float64\n",
            " 3   CHAS     506 non-null    float64\n",
            " 4   NOX      506 non-null    float64\n",
            " 5   RM       506 non-null    float64\n",
            " 6   AGE      506 non-null    float64\n",
            " 7   DIS      506 non-null    float64\n",
            " 8   RAD      506 non-null    float64\n",
            " 9   TAX      506 non-null    float64\n",
            " 10  PTRATIO  506 non-null    float64\n",
            " 11  B        506 non-null    float64\n",
            " 12  LSTAT    506 non-null    float64\n",
            " 13  MEDV     506 non-null    float64\n",
            "dtypes: float64(14)\n",
            "memory usage: 55.5 KB\n"
          ],
          "name": "stdout"
        }
      ]
    },
    {
      "cell_type": "code",
      "metadata": {
        "colab": {
          "base_uri": "https://localhost:8080/"
        },
        "id": "w-CtzuRXf3Mv",
        "outputId": "ba2bd595-52ea-4c50-c0e2-dcaa723b88ae"
      },
      "source": [
        "# check null value counts\r\n",
        "boston.isnull().sum()"
      ],
      "execution_count": 28,
      "outputs": [
        {
          "output_type": "execute_result",
          "data": {
            "text/plain": [
              "CRIM       0\n",
              "ZN         0\n",
              "INDUS      0\n",
              "CHAS       0\n",
              "NOX        0\n",
              "RM         0\n",
              "AGE        0\n",
              "DIS        0\n",
              "RAD        0\n",
              "TAX        0\n",
              "PTRATIO    0\n",
              "B          0\n",
              "LSTAT      0\n",
              "MEDV       0\n",
              "dtype: int64"
            ]
          },
          "metadata": {
            "tags": []
          },
          "execution_count": 28
        }
      ]
    },
    {
      "cell_type": "code",
      "metadata": {
        "colab": {
          "base_uri": "https://localhost:8080/",
          "height": 317
        },
        "id": "M9ZRJCraf7Qt",
        "outputId": "478f03d7-4e04-485d-b5c9-2d047ab3f584"
      },
      "source": [
        "boston.describe()\r\n"
      ],
      "execution_count": 29,
      "outputs": [
        {
          "output_type": "execute_result",
          "data": {
            "text/html": [
              "<div>\n",
              "<style scoped>\n",
              "    .dataframe tbody tr th:only-of-type {\n",
              "        vertical-align: middle;\n",
              "    }\n",
              "\n",
              "    .dataframe tbody tr th {\n",
              "        vertical-align: top;\n",
              "    }\n",
              "\n",
              "    .dataframe thead th {\n",
              "        text-align: right;\n",
              "    }\n",
              "</style>\n",
              "<table border=\"1\" class=\"dataframe\">\n",
              "  <thead>\n",
              "    <tr style=\"text-align: right;\">\n",
              "      <th></th>\n",
              "      <th>CRIM</th>\n",
              "      <th>ZN</th>\n",
              "      <th>INDUS</th>\n",
              "      <th>CHAS</th>\n",
              "      <th>NOX</th>\n",
              "      <th>RM</th>\n",
              "      <th>AGE</th>\n",
              "      <th>DIS</th>\n",
              "      <th>RAD</th>\n",
              "      <th>TAX</th>\n",
              "      <th>PTRATIO</th>\n",
              "      <th>B</th>\n",
              "      <th>LSTAT</th>\n",
              "      <th>MEDV</th>\n",
              "    </tr>\n",
              "  </thead>\n",
              "  <tbody>\n",
              "    <tr>\n",
              "      <th>count</th>\n",
              "      <td>506.000000</td>\n",
              "      <td>506.000000</td>\n",
              "      <td>506.000000</td>\n",
              "      <td>506.000000</td>\n",
              "      <td>506.000000</td>\n",
              "      <td>506.000000</td>\n",
              "      <td>506.000000</td>\n",
              "      <td>506.000000</td>\n",
              "      <td>506.000000</td>\n",
              "      <td>506.000000</td>\n",
              "      <td>506.000000</td>\n",
              "      <td>506.000000</td>\n",
              "      <td>506.000000</td>\n",
              "      <td>506.000000</td>\n",
              "    </tr>\n",
              "    <tr>\n",
              "      <th>mean</th>\n",
              "      <td>3.613524</td>\n",
              "      <td>11.363636</td>\n",
              "      <td>11.136779</td>\n",
              "      <td>0.069170</td>\n",
              "      <td>0.554695</td>\n",
              "      <td>6.284634</td>\n",
              "      <td>68.574901</td>\n",
              "      <td>3.795043</td>\n",
              "      <td>9.549407</td>\n",
              "      <td>408.237154</td>\n",
              "      <td>18.455534</td>\n",
              "      <td>356.674032</td>\n",
              "      <td>12.653063</td>\n",
              "      <td>22.532806</td>\n",
              "    </tr>\n",
              "    <tr>\n",
              "      <th>std</th>\n",
              "      <td>8.601545</td>\n",
              "      <td>23.322453</td>\n",
              "      <td>6.860353</td>\n",
              "      <td>0.253994</td>\n",
              "      <td>0.115878</td>\n",
              "      <td>0.702617</td>\n",
              "      <td>28.148861</td>\n",
              "      <td>2.105710</td>\n",
              "      <td>8.707259</td>\n",
              "      <td>168.537116</td>\n",
              "      <td>2.164946</td>\n",
              "      <td>91.294864</td>\n",
              "      <td>7.141062</td>\n",
              "      <td>9.197104</td>\n",
              "    </tr>\n",
              "    <tr>\n",
              "      <th>min</th>\n",
              "      <td>0.006320</td>\n",
              "      <td>0.000000</td>\n",
              "      <td>0.460000</td>\n",
              "      <td>0.000000</td>\n",
              "      <td>0.385000</td>\n",
              "      <td>3.561000</td>\n",
              "      <td>2.900000</td>\n",
              "      <td>1.129600</td>\n",
              "      <td>1.000000</td>\n",
              "      <td>187.000000</td>\n",
              "      <td>12.600000</td>\n",
              "      <td>0.320000</td>\n",
              "      <td>1.730000</td>\n",
              "      <td>5.000000</td>\n",
              "    </tr>\n",
              "    <tr>\n",
              "      <th>25%</th>\n",
              "      <td>0.082045</td>\n",
              "      <td>0.000000</td>\n",
              "      <td>5.190000</td>\n",
              "      <td>0.000000</td>\n",
              "      <td>0.449000</td>\n",
              "      <td>5.885500</td>\n",
              "      <td>45.025000</td>\n",
              "      <td>2.100175</td>\n",
              "      <td>4.000000</td>\n",
              "      <td>279.000000</td>\n",
              "      <td>17.400000</td>\n",
              "      <td>375.377500</td>\n",
              "      <td>6.950000</td>\n",
              "      <td>17.025000</td>\n",
              "    </tr>\n",
              "    <tr>\n",
              "      <th>50%</th>\n",
              "      <td>0.256510</td>\n",
              "      <td>0.000000</td>\n",
              "      <td>9.690000</td>\n",
              "      <td>0.000000</td>\n",
              "      <td>0.538000</td>\n",
              "      <td>6.208500</td>\n",
              "      <td>77.500000</td>\n",
              "      <td>3.207450</td>\n",
              "      <td>5.000000</td>\n",
              "      <td>330.000000</td>\n",
              "      <td>19.050000</td>\n",
              "      <td>391.440000</td>\n",
              "      <td>11.360000</td>\n",
              "      <td>21.200000</td>\n",
              "    </tr>\n",
              "    <tr>\n",
              "      <th>75%</th>\n",
              "      <td>3.677083</td>\n",
              "      <td>12.500000</td>\n",
              "      <td>18.100000</td>\n",
              "      <td>0.000000</td>\n",
              "      <td>0.624000</td>\n",
              "      <td>6.623500</td>\n",
              "      <td>94.075000</td>\n",
              "      <td>5.188425</td>\n",
              "      <td>24.000000</td>\n",
              "      <td>666.000000</td>\n",
              "      <td>20.200000</td>\n",
              "      <td>396.225000</td>\n",
              "      <td>16.955000</td>\n",
              "      <td>25.000000</td>\n",
              "    </tr>\n",
              "    <tr>\n",
              "      <th>max</th>\n",
              "      <td>88.976200</td>\n",
              "      <td>100.000000</td>\n",
              "      <td>27.740000</td>\n",
              "      <td>1.000000</td>\n",
              "      <td>0.871000</td>\n",
              "      <td>8.780000</td>\n",
              "      <td>100.000000</td>\n",
              "      <td>12.126500</td>\n",
              "      <td>24.000000</td>\n",
              "      <td>711.000000</td>\n",
              "      <td>22.000000</td>\n",
              "      <td>396.900000</td>\n",
              "      <td>37.970000</td>\n",
              "      <td>50.000000</td>\n",
              "    </tr>\n",
              "  </tbody>\n",
              "</table>\n",
              "</div>"
            ],
            "text/plain": [
              "             CRIM          ZN       INDUS  ...           B       LSTAT        MEDV\n",
              "count  506.000000  506.000000  506.000000  ...  506.000000  506.000000  506.000000\n",
              "mean     3.613524   11.363636   11.136779  ...  356.674032   12.653063   22.532806\n",
              "std      8.601545   23.322453    6.860353  ...   91.294864    7.141062    9.197104\n",
              "min      0.006320    0.000000    0.460000  ...    0.320000    1.730000    5.000000\n",
              "25%      0.082045    0.000000    5.190000  ...  375.377500    6.950000   17.025000\n",
              "50%      0.256510    0.000000    9.690000  ...  391.440000   11.360000   21.200000\n",
              "75%      3.677083   12.500000   18.100000  ...  396.225000   16.955000   25.000000\n",
              "max     88.976200  100.000000   27.740000  ...  396.900000   37.970000   50.000000\n",
              "\n",
              "[8 rows x 14 columns]"
            ]
          },
          "metadata": {
            "tags": []
          },
          "execution_count": 29
        }
      ]
    },
    {
      "cell_type": "code",
      "metadata": {
        "colab": {
          "base_uri": "https://localhost:8080/"
        },
        "id": "FGD0ooVXgJHb",
        "outputId": "3a5e9e71-0e36-4db7-b335-9f4fccf30462"
      },
      "source": [
        "boston.groupby('MEDV').size()\r\n",
        "#count values in a target variable"
      ],
      "execution_count": 30,
      "outputs": [
        {
          "output_type": "execute_result",
          "data": {
            "text/plain": [
              "MEDV\n",
              "5.0      2\n",
              "5.6      1\n",
              "6.3      1\n",
              "7.0      2\n",
              "7.2      3\n",
              "        ..\n",
              "46.7     1\n",
              "48.3     1\n",
              "48.5     1\n",
              "48.8     1\n",
              "50.0    16\n",
              "Length: 229, dtype: int64"
            ]
          },
          "metadata": {
            "tags": []
          },
          "execution_count": 30
        }
      ]
    },
    {
      "cell_type": "code",
      "metadata": {
        "colab": {
          "base_uri": "https://localhost:8080/"
        },
        "id": "7dypx8K6gQGS",
        "outputId": "e39b3dd5-df35-4fd8-f478-ffdd7249a0a1"
      },
      "source": [
        "#SPLITTING THEDATA INTO TEST AND TRAINING\r\n",
        "\r\n",
        "from sklearn import model_selection\r\n",
        "\r\n",
        "#create train and test split\r\n",
        "#what samples should we randomly choose from our dataset (random_state)\r\n",
        "\r\n",
        "boston_train, boston_test = model_selection.train_test_split(boston,test_size=0.2,random_state=1)\r\n",
        "print(\"Shape of the original boston data: \", boston.shape)\r\n",
        "print(\"Shape of the boston train data = \", boston_train.shape)\r\n",
        "print(\"Shape of the boston test data = \", boston_test.shape)\r\n",
        "\r\n",
        "#Resetting index for prediction time\r\n",
        "boston_train = boston_train.reset_index(drop=True)\r\n",
        "boston_test = boston_test.reset_index(drop=True)"
      ],
      "execution_count": 31,
      "outputs": [
        {
          "output_type": "stream",
          "text": [
            "Shape of the original boston data:  (506, 14)\n",
            "Shape of the boston train data =  (404, 14)\n",
            "Shape of the boston test data =  (102, 14)\n"
          ],
          "name": "stdout"
        }
      ]
    },
    {
      "cell_type": "code",
      "metadata": {
        "colab": {
          "base_uri": "https://localhost:8080/",
          "height": 318
        },
        "id": "Y2GqCrYGhOdt",
        "outputId": "bb4004c8-59d5-4807-ea36-8e6cc3d35685"
      },
      "source": [
        "#FEATURE SELECTION\r\n",
        "\r\n",
        "#In the boston dataset, are there any columns that are not useful or have very low correlation?\r\n",
        "\r\n",
        "#A correlation value can range between -1 to 1.\r\n",
        "#Value closer to -1 means high negative correlation between two variables\r\n",
        "#Value closer to +1 means high positive correlation between two variables\r\n",
        "#Value closer to 0 means no or very low correlation between two variables\r\n",
        "\r\n",
        "import seaborn as sns\r\n",
        "\r\n",
        "boston_corr_matrix = boston_train.corr()\r\n",
        "sns.heatmap(data=boston_corr_matrix, annot=False)"
      ],
      "execution_count": 32,
      "outputs": [
        {
          "output_type": "execute_result",
          "data": {
            "text/plain": [
              "<matplotlib.axes._subplots.AxesSubplot at 0x7f864d979908>"
            ]
          },
          "metadata": {
            "tags": []
          },
          "execution_count": 32
        },
        {
          "output_type": "display_data",
          "data": {
            "image/png": "[encoded data removed]",
            "text/plain": [
              "<Figure size 432x288 with 2 Axes>"
            ]
          },
          "metadata": {
            "tags": [],
            "needs_background": "light"
          }
        }
      ]
    },
    {
      "cell_type": "code",
      "metadata": {
        "colab": {
          "base_uri": "https://localhost:8080/"
        },
        "id": "8sAlr_k7iVyR",
        "outputId": "4afffe12-e4ea-44eb-8768-445fd7006d17"
      },
      "source": [
        "#Since MEDV is our predict column, we want to pick features which have a positive and negative correlation with MEDV. \r\n",
        "#Adding in columns which have a low or non-existent correlation would add to our 'Curse of Dimensionality' issue.\r\n",
        "\r\n",
        "#We need to filter out the highly positive correlated and highly negative correlated features\r\n",
        "#neg cor.  has a goodrelationship withinput and the output\r\n",
        "\r\n",
        "#values closer to 0 are notreally relevant\r\n",
        "\r\n",
        "#printing all the correlations to MEDV in descending order\r\n",
        "boston_corr_matrix['MEDV'].sort_values(ascending=False)"
      ],
      "execution_count": 33,
      "outputs": [
        {
          "output_type": "execute_result",
          "data": {
            "text/plain": [
              "MEDV       1.000000\n",
              "RM         0.670963\n",
              "ZN         0.387510\n",
              "B          0.329432\n",
              "DIS        0.280202\n",
              "CHAS       0.156214\n",
              "CRIM      -0.392849\n",
              "RAD       -0.393258\n",
              "AGE       -0.413612\n",
              "NOX       -0.449965\n",
              "TAX       -0.464379\n",
              "INDUS     -0.498042\n",
              "PTRATIO   -0.524866\n",
              "LSTAT     -0.741302\n",
              "Name: MEDV, dtype: float64"
            ]
          },
          "metadata": {
            "tags": []
          },
          "execution_count": 33
        }
      ]
    },
    {
      "cell_type": "code",
      "metadata": {
        "colab": {
          "base_uri": "https://localhost:8080/"
        },
        "id": "L5Tbq3Isj7pO",
        "outputId": "ad1fb820-e18b-49d5-c879-33a69c51d44d"
      },
      "source": [
        "#For this, let us pick 2 variables with high positive correlation (RM,ZN) and 2 with high negative correlation (PTRATIO, LSSTAT).\r\n",
        "\r\n",
        "#We will do this in the data pipeline section to ensure the same processes are done over the train and test datasets.\r\n",
        "\r\n",
        "\r\n",
        "#After selection, we need to split data into features and label\r\n",
        "\r\n",
        "\r\n",
        "#define input and predict to ccolumns\r\n",
        "boston_features = ['RM', 'ZN', 'PTRATIO', 'LSTAT']\r\n",
        "boston_labels = ['MEDV']\r\n",
        "\r\n",
        "print('BOSTON DATASET')\r\n",
        "print(\"Features - \" + str(boston_features))\r\n",
        "print(\"Labels - \" + str(boston_labels))\r\n",
        "\r\n",
        "boston_train_features = boston_train[boston_features]\r\n",
        "boston_train_labels = boston_train[boston_labels]\r\n",
        "print('✔ Train data split into features and labels')\r\n",
        "\r\n",
        "boston_test_features = boston_test[boston_features]\r\n",
        "boston_test_labels = boston_test[boston_labels]\r\n",
        "print('✔ Test data split into features and labels')"
      ],
      "execution_count": 34,
      "outputs": [
        {
          "output_type": "stream",
          "text": [
            "BOSTON DATASET\n",
            "Features - ['RM', 'ZN', 'PTRATIO', 'LSTAT']\n",
            "Labels - ['MEDV']\n",
            "✔ Train data split into features and labels\n",
            "✔ Test data split into features and labels\n"
          ],
          "name": "stdout"
        }
      ]
    },
    {
      "cell_type": "code",
      "metadata": {
        "colab": {
          "base_uri": "https://localhost:8080/"
        },
        "id": "KgYaecI1ki7U",
        "outputId": "9477b62e-4658-4bdd-cb73-a297b11578b8"
      },
      "source": [
        "#MODEL CREATION\r\n",
        "\r\n",
        "from sklearn.linear_model import LinearRegression\r\n",
        "\r\n",
        "# create the model object\r\n",
        "lr = LinearRegression()\r\n",
        "\r\n",
        "# fit the model on train data\r\n",
        "lr.fit(boston_train_features, boston_train_labels)"
      ],
      "execution_count": 35,
      "outputs": [
        {
          "output_type": "execute_result",
          "data": {
            "text/plain": [
              "LinearRegression(copy_X=True, fit_intercept=True, n_jobs=None, normalize=False)"
            ]
          },
          "metadata": {
            "tags": []
          },
          "execution_count": 35
        }
      ]
    },
    {
      "cell_type": "code",
      "metadata": {
        "colab": {
          "base_uri": "https://localhost:8080/",
          "height": 204
        },
        "id": "I6u96eoGlxH6",
        "outputId": "c3a3c4da-b317-4c46-a94b-ebb3c1787409"
      },
      "source": [
        "#Predictions on the Test data\r\n",
        "predictions_lr = lr.predict(boston_test_features)\r\n",
        "\r\n",
        "#Putting the above predictions and probabilities together to create a readable df\r\n",
        "lr_df = pd.DataFrame(predictions_lr.reshape(len(predictions_lr),1))\r\n",
        "lr_df.rename(columns={0:'lr_prediction'}, inplace=True)\r\n",
        "lr_df.head(5)"
      ],
      "execution_count": 36,
      "outputs": [
        {
          "output_type": "execute_result",
          "data": {
            "text/html": [
              "<div>\n",
              "<style scoped>\n",
              "    .dataframe tbody tr th:only-of-type {\n",
              "        vertical-align: middle;\n",
              "    }\n",
              "\n",
              "    .dataframe tbody tr th {\n",
              "        vertical-align: top;\n",
              "    }\n",
              "\n",
              "    .dataframe thead th {\n",
              "        text-align: right;\n",
              "    }\n",
              "</style>\n",
              "<table border=\"1\" class=\"dataframe\">\n",
              "  <thead>\n",
              "    <tr style=\"text-align: right;\">\n",
              "      <th></th>\n",
              "      <th>lr_prediction</th>\n",
              "    </tr>\n",
              "  </thead>\n",
              "  <tbody>\n",
              "    <tr>\n",
              "      <th>0</th>\n",
              "      <td>27.829478</td>\n",
              "    </tr>\n",
              "    <tr>\n",
              "      <th>1</th>\n",
              "      <td>28.173114</td>\n",
              "    </tr>\n",
              "    <tr>\n",
              "      <th>2</th>\n",
              "      <td>18.600315</td>\n",
              "    </tr>\n",
              "    <tr>\n",
              "      <th>3</th>\n",
              "      <td>23.346711</td>\n",
              "    </tr>\n",
              "    <tr>\n",
              "      <th>4</th>\n",
              "      <td>18.892405</td>\n",
              "    </tr>\n",
              "  </tbody>\n",
              "</table>\n",
              "</div>"
            ],
            "text/plain": [
              "   lr_prediction\n",
              "0      27.829478\n",
              "1      28.173114\n",
              "2      18.600315\n",
              "3      23.346711\n",
              "4      18.892405"
            ]
          },
          "metadata": {
            "tags": []
          },
          "execution_count": 36
        }
      ]
    },
    {
      "cell_type": "code",
      "metadata": {
        "colab": {
          "base_uri": "https://localhost:8080/",
          "height": 204
        },
        "id": "KFqTe0rdl6R1",
        "outputId": "d7b227f0-364f-4901-bfe3-c9d3bf0648e9"
      },
      "source": [
        "#Concat the predictions of linear regression to the test dataset\r\n",
        "boston_test_prediction = pd.concat([boston_test_labels, lr_df], axis=1)\r\n",
        "boston_test_prediction.head(5)"
      ],
      "execution_count": 37,
      "outputs": [
        {
          "output_type": "execute_result",
          "data": {
            "text/html": [
              "<div>\n",
              "<style scoped>\n",
              "    .dataframe tbody tr th:only-of-type {\n",
              "        vertical-align: middle;\n",
              "    }\n",
              "\n",
              "    .dataframe tbody tr th {\n",
              "        vertical-align: top;\n",
              "    }\n",
              "\n",
              "    .dataframe thead th {\n",
              "        text-align: right;\n",
              "    }\n",
              "</style>\n",
              "<table border=\"1\" class=\"dataframe\">\n",
              "  <thead>\n",
              "    <tr style=\"text-align: right;\">\n",
              "      <th></th>\n",
              "      <th>MEDV</th>\n",
              "      <th>lr_prediction</th>\n",
              "    </tr>\n",
              "  </thead>\n",
              "  <tbody>\n",
              "    <tr>\n",
              "      <th>0</th>\n",
              "      <td>28.2</td>\n",
              "      <td>27.829478</td>\n",
              "    </tr>\n",
              "    <tr>\n",
              "      <th>1</th>\n",
              "      <td>23.9</td>\n",
              "      <td>28.173114</td>\n",
              "    </tr>\n",
              "    <tr>\n",
              "      <th>2</th>\n",
              "      <td>16.6</td>\n",
              "      <td>18.600315</td>\n",
              "    </tr>\n",
              "    <tr>\n",
              "      <th>3</th>\n",
              "      <td>22.0</td>\n",
              "      <td>23.346711</td>\n",
              "    </tr>\n",
              "    <tr>\n",
              "      <th>4</th>\n",
              "      <td>20.8</td>\n",
              "      <td>18.892405</td>\n",
              "    </tr>\n",
              "  </tbody>\n",
              "</table>\n",
              "</div>"
            ],
            "text/plain": [
              "   MEDV  lr_prediction\n",
              "0  28.2      27.829478\n",
              "1  23.9      28.173114\n",
              "2  16.6      18.600315\n",
              "3  22.0      23.346711\n",
              "4  20.8      18.892405"
            ]
          },
          "metadata": {
            "tags": []
          },
          "execution_count": 37
        }
      ]
    },
    {
      "cell_type": "code",
      "metadata": {
        "colab": {
          "base_uri": "https://localhost:8080/"
        },
        "id": "ODz8wtD_mCwT",
        "outputId": "bf7f2e9c-e062-4fec-9bc4-ad7bb3f56dd6"
      },
      "source": [
        "# interpreting coefficients\r\n",
        "# prints y-intercept\r\n",
        "print(lr.intercept_)\r\n",
        "\r\n",
        "# prints the coefficient\r\n",
        "print(lr.coef_)"
      ],
      "execution_count": 38,
      "outputs": [
        {
          "output_type": "stream",
          "text": [
            "[24.28507347]\n",
            "[[ 3.82478846e+00 -2.96289190e-03 -9.82968918e-01 -5.93249451e-01]]\n"
          ],
          "name": "stdout"
        }
      ]
    },
    {
      "cell_type": "code",
      "metadata": {
        "colab": {
          "base_uri": "https://localhost:8080/"
        },
        "id": "H8qIjf67mIlq",
        "outputId": "7ad295a4-788e-4b27-bb2a-8c91c0bd1010"
      },
      "source": [
        "#MODEL EVALUATION\r\n",
        "\r\n",
        "# import metrics library\r\n",
        "from sklearn import metrics\r\n",
        "\r\n",
        "# print result of MAE\r\n",
        "print(metrics.mean_absolute_error(boston_test_prediction['MEDV'], boston_test_prediction['lr_prediction']))\r\n",
        "\r\n",
        "#print result of MSE\r\n",
        "print(metrics.mean_squared_error(boston_test_prediction['MEDV'], boston_test_prediction['lr_prediction']))\r\n",
        "\r\n",
        "#print result of RMSE\r\n",
        "print(np.sqrt(metrics.mean_squared_error(boston_test_prediction['MEDV'], boston_test_prediction['lr_prediction'])))"
      ],
      "execution_count": 39,
      "outputs": [
        {
          "output_type": "stream",
          "text": [
            "4.28125545229612\n",
            "29.97447785621386\n",
            "5.474895237008089\n"
          ],
          "name": "stdout"
        }
      ]
    }
  ]
}